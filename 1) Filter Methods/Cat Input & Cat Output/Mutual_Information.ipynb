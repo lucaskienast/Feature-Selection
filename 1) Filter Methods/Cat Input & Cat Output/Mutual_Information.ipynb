{
  "nbformat": 4,
  "nbformat_minor": 0,
  "metadata": {
    "colab": {
      "name": "Mutual Information.ipynb",
      "provenance": [],
      "collapsed_sections": []
    },
    "kernelspec": {
      "name": "python3",
      "display_name": "Python 3"
    },
    "language_info": {
      "name": "python"
    }
  },
  "cells": [
    {
      "cell_type": "markdown",
      "metadata": {
        "id": "vNstYx6IorAm"
      },
      "source": [
        "# Mutual Information \n",
        "\n",
        "## Classification Feature Selection (Categorical Input & Output) \n",
        "\n",
        "As the basis of this tutorial, we will use the so-called “Breast cancer” dataset that has been widely studied as a machine learning dataset since the 1980s. The dataset classifies breast cancer patient data as either a recurrence or no recurrence of cancer. There are 286 examples and nine input variables. It is a binary classification problem. Looking at the data, we can see that all nine input variables are categorical. Specifically, all variables are quoted strings; some are ordinal and some are not.\n",
        "\n",
        "A naive model can achieve an accuracy of 70% on this dataset. A good score is about 76% +/- 3%. We will aim for this region, but note that the models in this tutorial are not optimized; they are designed to demonstrate encoding schemes."
      ]
    },
    {
      "cell_type": "markdown",
      "metadata": {
        "id": "mA-PplgFpngj"
      },
      "source": [
        "## Import libraries"
      ]
    },
    {
      "cell_type": "code",
      "metadata": {
        "id": "skdfqm4Bppub"
      },
      "source": [
        "import numpy as np\n",
        "import pandas as pd\n",
        "import matplotlib.pyplot as plt\n",
        "from sklearn.model_selection import train_test_split\n",
        "from sklearn.preprocessing import LabelEncoder\n",
        "from sklearn.preprocessing import OrdinalEncoder\n",
        "from sklearn.feature_selection import SelectKBest\n",
        "from sklearn.feature_selection import mutual_info_classif\n",
        "from sklearn.linear_model import LogisticRegression\n",
        "from sklearn.metrics import accuracy_score"
      ],
      "execution_count": 1,
      "outputs": []
    },
    {
      "cell_type": "markdown",
      "metadata": {
        "id": "3ZabKub4pubL"
      },
      "source": [
        "## Load & explore data"
      ]
    },
    {
      "cell_type": "code",
      "metadata": {
        "colab": {
          "base_uri": "https://localhost:8080/",
          "height": 204
        },
        "id": "x36_C7xiqduy",
        "outputId": "455e3ae1-4bf8-43f9-f853-d053625eaacc"
      },
      "source": [
        "# load data\n",
        "url = \"https://raw.githubusercontent.com/jbrownlee/Datasets/master/breast-cancer.csv\"\n",
        "df = pd.read_csv(url, header=None)\n",
        "df.head()"
      ],
      "execution_count": 2,
      "outputs": [
        {
          "output_type": "execute_result",
          "data": {
            "text/html": [
              "<div>\n",
              "<style scoped>\n",
              "    .dataframe tbody tr th:only-of-type {\n",
              "        vertical-align: middle;\n",
              "    }\n",
              "\n",
              "    .dataframe tbody tr th {\n",
              "        vertical-align: top;\n",
              "    }\n",
              "\n",
              "    .dataframe thead th {\n",
              "        text-align: right;\n",
              "    }\n",
              "</style>\n",
              "<table border=\"1\" class=\"dataframe\">\n",
              "  <thead>\n",
              "    <tr style=\"text-align: right;\">\n",
              "      <th></th>\n",
              "      <th>0</th>\n",
              "      <th>1</th>\n",
              "      <th>2</th>\n",
              "      <th>3</th>\n",
              "      <th>4</th>\n",
              "      <th>5</th>\n",
              "      <th>6</th>\n",
              "      <th>7</th>\n",
              "      <th>8</th>\n",
              "      <th>9</th>\n",
              "    </tr>\n",
              "  </thead>\n",
              "  <tbody>\n",
              "    <tr>\n",
              "      <th>0</th>\n",
              "      <td>'40-49'</td>\n",
              "      <td>'premeno'</td>\n",
              "      <td>'15-19'</td>\n",
              "      <td>'0-2'</td>\n",
              "      <td>'yes'</td>\n",
              "      <td>'3'</td>\n",
              "      <td>'right'</td>\n",
              "      <td>'left_up'</td>\n",
              "      <td>'no'</td>\n",
              "      <td>'recurrence-events'</td>\n",
              "    </tr>\n",
              "    <tr>\n",
              "      <th>1</th>\n",
              "      <td>'50-59'</td>\n",
              "      <td>'ge40'</td>\n",
              "      <td>'15-19'</td>\n",
              "      <td>'0-2'</td>\n",
              "      <td>'no'</td>\n",
              "      <td>'1'</td>\n",
              "      <td>'right'</td>\n",
              "      <td>'central'</td>\n",
              "      <td>'no'</td>\n",
              "      <td>'no-recurrence-events'</td>\n",
              "    </tr>\n",
              "    <tr>\n",
              "      <th>2</th>\n",
              "      <td>'50-59'</td>\n",
              "      <td>'ge40'</td>\n",
              "      <td>'35-39'</td>\n",
              "      <td>'0-2'</td>\n",
              "      <td>'no'</td>\n",
              "      <td>'2'</td>\n",
              "      <td>'left'</td>\n",
              "      <td>'left_low'</td>\n",
              "      <td>'no'</td>\n",
              "      <td>'recurrence-events'</td>\n",
              "    </tr>\n",
              "    <tr>\n",
              "      <th>3</th>\n",
              "      <td>'40-49'</td>\n",
              "      <td>'premeno'</td>\n",
              "      <td>'35-39'</td>\n",
              "      <td>'0-2'</td>\n",
              "      <td>'yes'</td>\n",
              "      <td>'3'</td>\n",
              "      <td>'right'</td>\n",
              "      <td>'left_low'</td>\n",
              "      <td>'yes'</td>\n",
              "      <td>'no-recurrence-events'</td>\n",
              "    </tr>\n",
              "    <tr>\n",
              "      <th>4</th>\n",
              "      <td>'40-49'</td>\n",
              "      <td>'premeno'</td>\n",
              "      <td>'30-34'</td>\n",
              "      <td>'3-5'</td>\n",
              "      <td>'yes'</td>\n",
              "      <td>'2'</td>\n",
              "      <td>'left'</td>\n",
              "      <td>'right_up'</td>\n",
              "      <td>'no'</td>\n",
              "      <td>'recurrence-events'</td>\n",
              "    </tr>\n",
              "  </tbody>\n",
              "</table>\n",
              "</div>"
            ],
            "text/plain": [
              "         0          1        2  ...           7      8                       9\n",
              "0  '40-49'  'premeno'  '15-19'  ...   'left_up'   'no'     'recurrence-events'\n",
              "1  '50-59'     'ge40'  '15-19'  ...   'central'   'no'  'no-recurrence-events'\n",
              "2  '50-59'     'ge40'  '35-39'  ...  'left_low'   'no'     'recurrence-events'\n",
              "3  '40-49'  'premeno'  '35-39'  ...  'left_low'  'yes'  'no-recurrence-events'\n",
              "4  '40-49'  'premeno'  '30-34'  ...  'right_up'   'no'     'recurrence-events'\n",
              "\n",
              "[5 rows x 10 columns]"
            ]
          },
          "metadata": {},
          "execution_count": 2
        }
      ]
    },
    {
      "cell_type": "code",
      "metadata": {
        "colab": {
          "base_uri": "https://localhost:8080/"
        },
        "id": "AGFPGw40wnNA",
        "outputId": "08775cf4-cdf7-4d01-f390-effa4a372c0a"
      },
      "source": [
        "# explore descriptive statistics\n",
        "df.isna().sum()"
      ],
      "execution_count": 3,
      "outputs": [
        {
          "output_type": "execute_result",
          "data": {
            "text/plain": [
              "0    0\n",
              "1    0\n",
              "2    0\n",
              "3    0\n",
              "4    8\n",
              "5    0\n",
              "6    0\n",
              "7    1\n",
              "8    0\n",
              "9    0\n",
              "dtype: int64"
            ]
          },
          "metadata": {},
          "execution_count": 3
        }
      ]
    },
    {
      "cell_type": "code",
      "metadata": {
        "id": "HzPvcce-xXuk"
      },
      "source": [
        "# drop nans\n",
        "df = df.dropna()"
      ],
      "execution_count": 4,
      "outputs": []
    },
    {
      "cell_type": "markdown",
      "metadata": {
        "id": "DjKF34v5rPJQ"
      },
      "source": [
        "## Declare features and targets"
      ]
    },
    {
      "cell_type": "code",
      "metadata": {
        "id": "72jGUDO8pprn"
      },
      "source": [
        "# load the dataset\n",
        "def load_dataset(filename):\n",
        "\t# load the dataset as a pandas DataFrame\n",
        "\tdata = pd.read_csv(filename, header=None)\n",
        "\t# retrieve numpy array\n",
        "\tdataset = data.values\n",
        "\t# split into input (X) and output (y) variables\n",
        "\tX = dataset[:, :-1]\n",
        "\ty = dataset[:,-1]\n",
        "\t# format all fields as string\n",
        "\tX = X.astype(str)\n",
        "\treturn X, y"
      ],
      "execution_count": 5,
      "outputs": []
    },
    {
      "cell_type": "code",
      "metadata": {
        "colab": {
          "base_uri": "https://localhost:8080/"
        },
        "id": "9l0su0TippmH",
        "outputId": "2084db05-e123-40f7-d241-c7f2e81eeb36"
      },
      "source": [
        "# load the dataset\n",
        "url = \"https://raw.githubusercontent.com/jbrownlee/Datasets/master/breast-cancer.csv\"\n",
        "X, y = load_dataset(url)\n",
        "print(X.shape, y.shape)"
      ],
      "execution_count": 6,
      "outputs": [
        {
          "output_type": "stream",
          "name": "stdout",
          "text": [
            "(286, 9) (286,)\n"
          ]
        }
      ]
    },
    {
      "cell_type": "markdown",
      "metadata": {
        "id": "ry0O2tDorGwc"
      },
      "source": [
        "## Train-Test Split"
      ]
    },
    {
      "cell_type": "code",
      "metadata": {
        "id": "IpRKqdDDnSJD"
      },
      "source": [
        "# split into train and test sets (67:33)\n",
        "X_train, X_test, y_train, y_test = train_test_split(X, y, test_size=0.33, random_state=1)"
      ],
      "execution_count": 7,
      "outputs": []
    },
    {
      "cell_type": "code",
      "metadata": {
        "colab": {
          "base_uri": "https://localhost:8080/"
        },
        "id": "s43nRbVCq-Fm",
        "outputId": "4b993977-1ba2-49bd-ef6b-4a47f14bb6b8"
      },
      "source": [
        "# summarize\n",
        "print('Train', X_train.shape, y_train.shape)\n",
        "print('Test', X_test.shape, y_test.shape)"
      ],
      "execution_count": 8,
      "outputs": [
        {
          "output_type": "stream",
          "name": "stdout",
          "text": [
            "Train (191, 9) (191,)\n",
            "Test (95, 9) (95,)\n"
          ]
        }
      ]
    },
    {
      "cell_type": "markdown",
      "metadata": {
        "id": "oLDRZLYCsJf1"
      },
      "source": [
        "## Encode categorical variables to integers\n",
        "\n",
        "We can use the OrdinalEncoder() from scikit-learn to encode each variable to integers. This is a flexible class and does allow the order of the categories to be specified as arguments if any such order is known.\n",
        "\n",
        "Note: I will leave it as an exercise to you to update the example below to try specifying the order for those variables that have a natural ordering and see if it has an impact on model performance. (https://datascience.stackexchange.com/questions/72343/encoding-with-ordinalencoder-how-to-give-levels-as-user-input)\n",
        "\n",
        "The best practice when encoding variables is to fit the encoding on the training dataset, then apply it to the train and test datasets. The function below named prepare_inputs() takes the input data for the train and test sets and encodes it using an ordinal encoding.\n",
        "\n",
        "You can change the training set to have an example of all possible cases. Or create a custom mapping of all known cases to integers.\n",
        "\n"
      ]
    },
    {
      "cell_type": "code",
      "metadata": {
        "id": "dNPX-iB3rBSE"
      },
      "source": [
        "# prepare input data\n",
        "def prepare_inputs(X_train, X_test):\n",
        "  oe = OrdinalEncoder() # add ordinal list of lists here\n",
        "  oe.fit(X_train)\n",
        "  X_train_enc = oe.transform(X_train)\n",
        "  X_test_enc = oe.transform(X_test)\n",
        "  return X_train_enc, X_test_enc"
      ],
      "execution_count": 9,
      "outputs": []
    },
    {
      "cell_type": "code",
      "metadata": {
        "id": "jeO1dZityjYJ"
      },
      "source": [
        "# prepare input data\n",
        "X_train_enc, X_test_enc = prepare_inputs(X_train, X_test)"
      ],
      "execution_count": 10,
      "outputs": []
    },
    {
      "cell_type": "markdown",
      "metadata": {
        "id": "QpXq_Y5J5QuE"
      },
      "source": [
        "It is a binary classification problem, so we need to map the two class labels to 0 and 1. This is a type of ordinal encoding, and scikit-learn provides the LabelEncoder class specifically designed for this purpose. We could just as easily use the OrdinalEncoder and achieve the same result, although the LabelEncoder is designed for encoding a single variable."
      ]
    },
    {
      "cell_type": "code",
      "metadata": {
        "id": "JYf0Aiv05RIv"
      },
      "source": [
        "# prepare target\n",
        "def prepare_targets(y_train, y_test):\n",
        "\tle = LabelEncoder()\n",
        "\tle.fit(y_train)\n",
        "\ty_train_enc = le.transform(y_train)\n",
        "\ty_test_enc = le.transform(y_test)\n",
        "\treturn y_train_enc, y_test_enc"
      ],
      "execution_count": 11,
      "outputs": []
    },
    {
      "cell_type": "code",
      "metadata": {
        "id": "f0sWCkUu5VOH"
      },
      "source": [
        "# prepare output data\n",
        "y_train_enc, y_test_enc = prepare_targets(y_train, y_test)"
      ],
      "execution_count": 12,
      "outputs": []
    },
    {
      "cell_type": "markdown",
      "metadata": {
        "id": "IrhadGk49OLy"
      },
      "source": [
        "## Categorical feature selection: Mutual Information\n",
        "Mutual information from the field of information theory is the application of information gain (typically used in the construction of decision trees) to feature selection. Mutual information is calculated between two variables and measures the reduction in uncertainty for one variable given a known value of the other variable.\n",
        "\n",
        "The scikit-learn machine learning library provides an implementation of mutual information for feature selection via the mutual_info_classif() function. This function can be used in a feature selection strategy, such as selecting the top k most relevant features (largest values) via the SelectKBest class. For example, we can define the SelectKBest class to use the mutual_info_classif() function and select all features, then transform the train and test sets."
      ]
    },
    {
      "cell_type": "code",
      "metadata": {
        "id": "y3N_rQ0F5XXz"
      },
      "source": [
        "# feature selection\n",
        "def select_features(X_train, y_train, X_test):\n",
        "\tfs = SelectKBest(score_func=mutual_info_classif, k='all')\n",
        "\tfs.fit(X_train, y_train)\n",
        "\tX_train_fs = fs.transform(X_train)\n",
        "\tX_test_fs = fs.transform(X_test)\n",
        "\treturn X_train_fs, X_test_fs, fs"
      ],
      "execution_count": 13,
      "outputs": []
    },
    {
      "cell_type": "code",
      "metadata": {
        "id": "vBXI32xO-UHS"
      },
      "source": [
        "# feature selection\n",
        "X_train_fs, X_test_fs, fs = select_features(X_train_enc, y_train_enc, X_test_enc)"
      ],
      "execution_count": 14,
      "outputs": []
    },
    {
      "cell_type": "code",
      "metadata": {
        "colab": {
          "base_uri": "https://localhost:8080/"
        },
        "id": "qzpps1-7-d-D",
        "outputId": "89e58e83-220c-435a-a69f-663f04f8134b"
      },
      "source": [
        "# what are scores for the features\n",
        "for i in range(len(fs.scores_)):\n",
        "\tprint('Feature %d: %f' % (i, fs.scores_[i]))"
      ],
      "execution_count": 15,
      "outputs": [
        {
          "output_type": "stream",
          "name": "stdout",
          "text": [
            "Feature 0: 0.000000\n",
            "Feature 1: 0.000000\n",
            "Feature 2: 0.078455\n",
            "Feature 3: 0.008614\n",
            "Feature 4: 0.056896\n",
            "Feature 5: 0.049939\n",
            "Feature 6: 0.023400\n",
            "Feature 7: 0.000000\n",
            "Feature 8: 0.002914\n"
          ]
        }
      ]
    },
    {
      "cell_type": "code",
      "metadata": {
        "colab": {
          "base_uri": "https://localhost:8080/",
          "height": 428
        },
        "id": "o119TcEz-gtU",
        "outputId": "63e7a31a-6b55-4eed-bd71-dbf4a6e15988"
      },
      "source": [
        "# plot the scores\n",
        "plt.figure(figsize=(14,7))\n",
        "plt.bar([i for i in range(len(fs.scores_))], fs.scores_)\n",
        "plt.show()"
      ],
      "execution_count": 16,
      "outputs": [
        {
          "output_type": "display_data",
          "data": {
            "image/png": "[encoded data removed]",
            "text/plain": [
              "<Figure size 1008x504 with 1 Axes>"
            ]
          },
          "metadata": {
            "needs_background": "light"
          }
        }
      ]
    },
    {
      "cell_type": "markdown",
      "metadata": {
        "id": "Uvwo_8fr-wHG"
      },
      "source": [
        "In this case, we can see that some of the features have a very low score, suggesting that perhaps they can be removed. Perhaps features 2, 3, 5, and 6 are most relevant.\n",
        "\n",
        "A bar chart of the feature importance scores for each input feature is created. This clearly shows that feature 2 might be the most relevant (according to mutual information) and that perhaps four of the nine input features are the most relevant. We could set k=4 When configuring the SelectKBest to select these top four features."
      ]
    },
    {
      "cell_type": "markdown",
      "metadata": {
        "id": "06UOlju--_GM"
      },
      "source": [
        "## Classification model built with all features (baseline)\n",
        "\n",
        "There are many different techniques for scoring features and selecting features based on scores; how do you know which one to use? A robust approach is to evaluate models using different feature selection methods (and numbers of features) and select the method that results in a model with the best performance.\n",
        "\n",
        "In this section, we will evaluate a Logistic Regression model with all features compared to a model built from features selected by mutual information.\n",
        "\n",
        "Logistic regression is a good model for testing feature selection methods as it can perform better if irrelevant features are removed from the model. As a first step, we will evaluate a LogisticRegression model using all the available features. The model is fit on the training dataset and evaluated on the test dataset."
      ]
    },
    {
      "cell_type": "code",
      "metadata": {
        "colab": {
          "base_uri": "https://localhost:8080/"
        },
        "id": "8D9iDwuP-leD",
        "outputId": "dc0afa88-e6fe-4edf-e5fd-a11a68b7721c"
      },
      "source": [
        "# fit the model\n",
        "model = LogisticRegression(solver='lbfgs')\n",
        "model.fit(X_train_enc, y_train_enc)"
      ],
      "execution_count": 17,
      "outputs": [
        {
          "output_type": "execute_result",
          "data": {
            "text/plain": [
              "LogisticRegression(C=1.0, class_weight=None, dual=False, fit_intercept=True,\n",
              "                   intercept_scaling=1, l1_ratio=None, max_iter=100,\n",
              "                   multi_class='auto', n_jobs=None, penalty='l2',\n",
              "                   random_state=None, solver='lbfgs', tol=0.0001, verbose=0,\n",
              "                   warm_start=False)"
            ]
          },
          "metadata": {},
          "execution_count": 17
        }
      ]
    },
    {
      "cell_type": "code",
      "metadata": {
        "id": "lvWofTzc_Q9f"
      },
      "source": [
        "# evaluate the model\n",
        "yhat = model.predict(X_test_enc)"
      ],
      "execution_count": 18,
      "outputs": []
    },
    {
      "cell_type": "code",
      "metadata": {
        "colab": {
          "base_uri": "https://localhost:8080/"
        },
        "id": "iFdHxwv-_UPo",
        "outputId": "fe3242ce-4f1c-46de-bff3-e706567f731c"
      },
      "source": [
        "# evaluate predictions\n",
        "accuracy = accuracy_score(y_test_enc, yhat)\n",
        "print('Accuracy: %.2f' % (accuracy*100))"
      ],
      "execution_count": 19,
      "outputs": [
        {
          "output_type": "stream",
          "name": "stdout",
          "text": [
            "Accuracy: 75.79\n"
          ]
        }
      ]
    },
    {
      "cell_type": "markdown",
      "metadata": {
        "id": "jj4VDq3q_csQ"
      },
      "source": [
        "In this case, we can see that the model achieves a classification accuracy of about 75%.\n",
        "\n",
        "We would prefer to use a subset of features that achieves a classification accuracy that is as good or better than this."
      ]
    },
    {
      "cell_type": "markdown",
      "metadata": {
        "id": "f4h-V9ny_eyt"
      },
      "source": [
        "## Classification model built with Mutual-Information features\n",
        "\n",
        "We can repeat the experiment and select the top four features using a mutual information statistic.\n",
        "\n",
        "The updated version of the select_features() function to achieve this is listed below."
      ]
    },
    {
      "cell_type": "code",
      "metadata": {
        "id": "l9JF3fGA_Uv2"
      },
      "source": [
        "# feature selection\n",
        "def select_features(X_train, y_train, X_test):\n",
        "\tfs = SelectKBest(score_func=mutual_info_classif, k=4)\n",
        "\tfs.fit(X_train, y_train)\n",
        "\tX_train_fs = fs.transform(X_train)\n",
        "\tX_test_fs = fs.transform(X_test)\n",
        "\treturn X_train_fs, X_test_fs"
      ],
      "execution_count": 20,
      "outputs": []
    },
    {
      "cell_type": "code",
      "metadata": {
        "id": "CFzeXktlAHJu"
      },
      "source": [
        "# feature selection\n",
        "X_train_fs, X_test_fs = select_features(X_train_enc, y_train_enc, X_test_enc)"
      ],
      "execution_count": 21,
      "outputs": []
    },
    {
      "cell_type": "code",
      "metadata": {
        "colab": {
          "base_uri": "https://localhost:8080/"
        },
        "id": "-iYOvm0-AMJO",
        "outputId": "16adba7a-56e7-45f0-bd03-e889c9c9e0be"
      },
      "source": [
        "# fit the model\n",
        "model = LogisticRegression(solver='lbfgs')\n",
        "model.fit(X_train_fs, y_train_enc)"
      ],
      "execution_count": 22,
      "outputs": [
        {
          "output_type": "execute_result",
          "data": {
            "text/plain": [
              "LogisticRegression(C=1.0, class_weight=None, dual=False, fit_intercept=True,\n",
              "                   intercept_scaling=1, l1_ratio=None, max_iter=100,\n",
              "                   multi_class='auto', n_jobs=None, penalty='l2',\n",
              "                   random_state=None, solver='lbfgs', tol=0.0001, verbose=0,\n",
              "                   warm_start=False)"
            ]
          },
          "metadata": {},
          "execution_count": 22
        }
      ]
    },
    {
      "cell_type": "code",
      "metadata": {
        "id": "Nw9crMTFANnJ"
      },
      "source": [
        "# evaluate the model\n",
        "yhat = model.predict(X_test_fs)"
      ],
      "execution_count": 23,
      "outputs": []
    },
    {
      "cell_type": "code",
      "metadata": {
        "colab": {
          "base_uri": "https://localhost:8080/"
        },
        "id": "GG-IdvTkAQSA",
        "outputId": "14aac9a7-5bd8-4233-d275-77a0a5407858"
      },
      "source": [
        "# evaluate predictions\n",
        "accuracy = accuracy_score(y_test_enc, yhat)\n",
        "print('Accuracy: %.2f' % (accuracy*100))"
      ],
      "execution_count": 24,
      "outputs": [
        {
          "output_type": "stream",
          "name": "stdout",
          "text": [
            "Accuracy: 77.89\n"
          ]
        }
      ]
    },
    {
      "cell_type": "markdown",
      "metadata": {
        "id": "QV-IvcT6AcBq"
      },
      "source": [
        "Running the example fits the model on the four top selected features chosen using mutual information.\n",
        "In this case, we can see a small lift in classification accuracy to 78%."
      ]
    },
    {
      "cell_type": "markdown",
      "metadata": {
        "id": "LucDJlkiAwIS"
      },
      "source": [
        "To be sure that the effect is real, it would be a good idea to repeat each experiment multiple times and compare the mean performance. It may also be a good idea to explore using k-fold cross-validation instead of a simple train/test split."
      ]
    },
    {
      "cell_type": "code",
      "metadata": {
        "id": "3LKthX09AQjG"
      },
      "source": [
        ""
      ],
      "execution_count": 24,
      "outputs": []
    }
  ]
}
