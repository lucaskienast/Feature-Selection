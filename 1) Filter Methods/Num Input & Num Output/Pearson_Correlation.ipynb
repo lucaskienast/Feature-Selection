{
  "nbformat": 4,
  "nbformat_minor": 0,
  "metadata": {
    "colab": {
      "name": "Pearson Correlation.ipynb",
      "provenance": [],
      "collapsed_sections": [],
      "authorship_tag": "ABX9TyPFNU5gXeJqW9ggrWfoW72L"
    },
    "kernelspec": {
      "name": "python3",
      "display_name": "Python 3"
    },
    "language_info": {
      "name": "python"
    }
  },
  "cells": [
    {
      "cell_type": "markdown",
      "metadata": {
        "id": "YtqJD2O0zuLQ"
      },
      "source": [
        "# Pearson's Correlation \n",
        "\n",
        "## Regression Feature Selection (Numerical Input & Output) \n",
        "\n",
        "This section demonstrates feature selection for a regression problem that as numerical inputs and numerical outputs. A test regression problem is prepared using the make_regression() function. Feature selection is performed using Pearson’s Correlation Coefficient via the f_regression() function."
      ]
    },
    {
      "cell_type": "markdown",
      "metadata": {
        "id": "yRtq79t70GqW"
      },
      "source": [
        "## Import libraries"
      ]
    },
    {
      "cell_type": "code",
      "metadata": {
        "id": "BPotm2argFVn",
        "executionInfo": {
          "status": "ok",
          "timestamp": 1630600455537,
          "user_tz": -120,
          "elapsed": 506,
          "user": {
            "displayName": "Max Lucas Kienast",
            "photoUrl": "",
            "userId": "18136220580306165387"
          }
        }
      },
      "source": [
        "import numpy as np\n",
        "import pandas as pd\n",
        "import matplotlib.pyplot as plt\n",
        "from sklearn.model_selection import train_test_split\n",
        "from sklearn.datasets import make_regression\n",
        "from sklearn.feature_selection import SelectKBest\n",
        "from sklearn.feature_selection import f_regression\n",
        "from sklearn.linear_model import LinearRegression\n",
        "from sklearn.metrics import mean_absolute_error\n",
        "from sklearn.pipeline import Pipeline\n",
        "from sklearn.model_selection import GridSearchCV\n",
        "from sklearn.model_selection import RepeatedKFold\n",
        "from sklearn.model_selection import cross_val_score"
      ],
      "execution_count": 1,
      "outputs": []
    },
    {
      "cell_type": "markdown",
      "metadata": {
        "id": "VVmOXQPw0LMD"
      },
      "source": [
        "## Load data\n",
        "\n",
        "In this case, we will define a dataset with 1,000 samples, each with 100 input features where 10 are informative and the remaining 90 are redundant."
      ]
    },
    {
      "cell_type": "code",
      "metadata": {
        "colab": {
          "base_uri": "https://localhost:8080/"
        },
        "id": "ScEhRrQYLWSC",
        "executionInfo": {
          "status": "ok",
          "timestamp": 1630600455537,
          "user_tz": -120,
          "elapsed": 5,
          "user": {
            "displayName": "Max Lucas Kienast",
            "photoUrl": "",
            "userId": "18136220580306165387"
          }
        },
        "outputId": "7e63aa61-aafd-4d04-e343-821b8f58f17d"
      },
      "source": [
        "# generate regression dataset\n",
        "X, y = make_regression(n_samples=1000, n_features=100, n_informative=10, noise=0.1, random_state=1)\n",
        "print(X.shape, y.shape)"
      ],
      "execution_count": 2,
      "outputs": [
        {
          "output_type": "stream",
          "name": "stdout",
          "text": [
            "(1000, 100) (1000,)\n"
          ]
        }
      ]
    },
    {
      "cell_type": "markdown",
      "metadata": {
        "id": "d6jYLJu4MIXU"
      },
      "source": [
        "## Train-Test Split"
      ]
    },
    {
      "cell_type": "code",
      "metadata": {
        "id": "-Tr2hPlyMHVh",
        "executionInfo": {
          "status": "ok",
          "timestamp": 1630600455854,
          "user_tz": -120,
          "elapsed": 319,
          "user": {
            "displayName": "Max Lucas Kienast",
            "photoUrl": "",
            "userId": "18136220580306165387"
          }
        }
      },
      "source": [
        "# split into train and test sets (67:33)\n",
        "X_train, X_test, y_train, y_test = train_test_split(X, y, test_size=0.33, random_state=1)"
      ],
      "execution_count": 3,
      "outputs": []
    },
    {
      "cell_type": "code",
      "metadata": {
        "colab": {
          "base_uri": "https://localhost:8080/"
        },
        "id": "t_pYH7HRMNI4",
        "executionInfo": {
          "status": "ok",
          "timestamp": 1630600455854,
          "user_tz": -120,
          "elapsed": 7,
          "user": {
            "displayName": "Max Lucas Kienast",
            "photoUrl": "",
            "userId": "18136220580306165387"
          }
        },
        "outputId": "561113be-71a9-4c12-987d-392aedbd7186"
      },
      "source": [
        "# summarize\n",
        "print('Train', X_train.shape, y_train.shape)\n",
        "print('Test', X_test.shape, y_test.shape)"
      ],
      "execution_count": 4,
      "outputs": [
        {
          "output_type": "stream",
          "name": "stdout",
          "text": [
            "Train (670, 100) (670,)\n",
            "Test (330, 100) (330,)\n"
          ]
        }
      ]
    },
    {
      "cell_type": "markdown",
      "metadata": {
        "id": "c4aOP8Y6MU0A"
      },
      "source": [
        "## Correlation feature selection: Pearson's correlation\n",
        "\n",
        "Correlation is a measure of how two variables change together. Perhaps the most common correlation measure is Pearson’s correlation that assumes a Gaussian distribution to each variable and reports on their linear relationship.\n",
        "\n",
        "Linear correlation scores are typically a value between -1 and 1 with 0 representing no relationship. For feature selection, we are often interested in a positive score with the larger the positive value, the larger the relationship, and, more likely, the feature should be selected for modeling. As such the linear correlation can be converted into a correlation statistic with only positive values.\n",
        "\n",
        "The scikit-learn machine library provides an implementation of the correlation statistic in the f_regression() function. This function can be used in a feature selection strategy, such as selecting the top k most relevant features (largest values) via the SelectKBest class. For example, we can define the SelectKBest class to use the f_regression() function and select all features, then transform the train and test sets."
      ]
    },
    {
      "cell_type": "code",
      "metadata": {
        "id": "UEKzrcI6MNbo",
        "executionInfo": {
          "status": "ok",
          "timestamp": 1630600455855,
          "user_tz": -120,
          "elapsed": 6,
          "user": {
            "displayName": "Max Lucas Kienast",
            "photoUrl": "",
            "userId": "18136220580306165387"
          }
        }
      },
      "source": [
        "# feature selection\n",
        "def select_features(X_train, y_train, X_test):\n",
        "\t# configure to select all features\n",
        "\tfs = SelectKBest(score_func=f_regression, k='all')\n",
        "\t# learn relationship from training data\n",
        "\tfs.fit(X_train, y_train)\n",
        "\t# transform train input data\n",
        "\tX_train_fs = fs.transform(X_train)\n",
        "\t# transform test input data\n",
        "\tX_test_fs = fs.transform(X_test)\n",
        "\treturn X_train_fs, X_test_fs, fs"
      ],
      "execution_count": 5,
      "outputs": []
    },
    {
      "cell_type": "code",
      "metadata": {
        "id": "CIDhR5IOM3Le",
        "executionInfo": {
          "status": "ok",
          "timestamp": 1630600455855,
          "user_tz": -120,
          "elapsed": 5,
          "user": {
            "displayName": "Max Lucas Kienast",
            "photoUrl": "",
            "userId": "18136220580306165387"
          }
        }
      },
      "source": [
        "# feature selection\n",
        "X_train_fs, X_test_fs, fs = select_features(X_train, y_train, X_test)"
      ],
      "execution_count": 6,
      "outputs": []
    },
    {
      "cell_type": "code",
      "metadata": {
        "colab": {
          "base_uri": "https://localhost:8080/"
        },
        "id": "UanK1RcNNAVY",
        "executionInfo": {
          "status": "ok",
          "timestamp": 1630600455855,
          "user_tz": -120,
          "elapsed": 5,
          "user": {
            "displayName": "Max Lucas Kienast",
            "photoUrl": "",
            "userId": "18136220580306165387"
          }
        },
        "outputId": "953da930-0b8a-4f4b-ba4c-8a29e60826ab"
      },
      "source": [
        "# what are scores for the features\n",
        "for i in range(len(fs.scores_)):\n",
        "\tprint('Feature %d: %f' % (i, fs.scores_[i]))"
      ],
      "execution_count": 7,
      "outputs": [
        {
          "output_type": "stream",
          "name": "stdout",
          "text": [
            "Feature 0: 0.009419\n",
            "Feature 1: 1.018881\n",
            "Feature 2: 1.205187\n",
            "Feature 3: 0.000138\n",
            "Feature 4: 0.167511\n",
            "Feature 5: 5.985083\n",
            "Feature 6: 0.062405\n",
            "Feature 7: 1.455257\n",
            "Feature 8: 0.420384\n",
            "Feature 9: 101.392225\n",
            "Feature 10: 0.387091\n",
            "Feature 11: 1.581124\n",
            "Feature 12: 3.014463\n",
            "Feature 13: 0.232705\n",
            "Feature 14: 0.076281\n",
            "Feature 15: 4.299652\n",
            "Feature 16: 1.497530\n",
            "Feature 17: 0.261242\n",
            "Feature 18: 5.960005\n",
            "Feature 19: 0.523219\n",
            "Feature 20: 0.003365\n",
            "Feature 21: 0.024178\n",
            "Feature 22: 0.220958\n",
            "Feature 23: 0.576770\n",
            "Feature 24: 0.627198\n",
            "Feature 25: 0.350687\n",
            "Feature 26: 0.281877\n",
            "Feature 27: 0.584210\n",
            "Feature 28: 52.196337\n",
            "Feature 29: 0.046855\n",
            "Feature 30: 0.147323\n",
            "Feature 31: 0.368485\n",
            "Feature 32: 0.077631\n",
            "Feature 33: 0.698140\n",
            "Feature 34: 45.744046\n",
            "Feature 35: 2.047376\n",
            "Feature 36: 0.786270\n",
            "Feature 37: 0.996190\n",
            "Feature 38: 2.733533\n",
            "Feature 39: 63.957656\n",
            "Feature 40: 231.885540\n",
            "Feature 41: 1.372448\n",
            "Feature 42: 0.581860\n",
            "Feature 43: 1.072930\n",
            "Feature 44: 1.066976\n",
            "Feature 45: 0.344656\n",
            "Feature 46: 13.951551\n",
            "Feature 47: 3.575080\n",
            "Feature 48: 0.007299\n",
            "Feature 49: 0.004651\n",
            "Feature 50: 1.094585\n",
            "Feature 51: 0.241065\n",
            "Feature 52: 0.355137\n",
            "Feature 53: 0.020294\n",
            "Feature 54: 0.154567\n",
            "Feature 55: 2.592512\n",
            "Feature 56: 0.300175\n",
            "Feature 57: 0.357798\n",
            "Feature 58: 3.060090\n",
            "Feature 59: 0.890357\n",
            "Feature 60: 122.132164\n",
            "Feature 61: 2.029982\n",
            "Feature 62: 0.091551\n",
            "Feature 63: 1.081123\n",
            "Feature 64: 0.056041\n",
            "Feature 65: 2.930717\n",
            "Feature 66: 0.054886\n",
            "Feature 67: 1.332787\n",
            "Feature 68: 0.145579\n",
            "Feature 69: 0.986331\n",
            "Feature 70: 0.092661\n",
            "Feature 71: 0.083219\n",
            "Feature 72: 0.198847\n",
            "Feature 73: 2.065792\n",
            "Feature 74: 0.236594\n",
            "Feature 75: 0.512608\n",
            "Feature 76: 1.095650\n",
            "Feature 77: 0.015359\n",
            "Feature 78: 2.193730\n",
            "Feature 79: 1.574530\n",
            "Feature 80: 5.360863\n",
            "Feature 81: 0.041874\n",
            "Feature 82: 5.717705\n",
            "Feature 83: 0.436560\n",
            "Feature 84: 5.594438\n",
            "Feature 85: 0.000065\n",
            "Feature 86: 0.026748\n",
            "Feature 87: 0.408422\n",
            "Feature 88: 2.092557\n",
            "Feature 89: 9.568498\n",
            "Feature 90: 0.642445\n",
            "Feature 91: 0.065794\n",
            "Feature 92: 198.705931\n",
            "Feature 93: 0.073807\n",
            "Feature 94: 1.048605\n",
            "Feature 95: 0.004106\n",
            "Feature 96: 0.042110\n",
            "Feature 97: 0.034228\n",
            "Feature 98: 0.792433\n",
            "Feature 99: 0.015365\n"
          ]
        }
      ]
    },
    {
      "cell_type": "code",
      "metadata": {
        "colab": {
          "base_uri": "https://localhost:8080/",
          "height": 428
        },
        "id": "KnyvNqf1NCEn",
        "executionInfo": {
          "status": "ok",
          "timestamp": 1630600456085,
          "user_tz": -120,
          "elapsed": 233,
          "user": {
            "displayName": "Max Lucas Kienast",
            "photoUrl": "",
            "userId": "18136220580306165387"
          }
        },
        "outputId": "32ba8f97-54e5-4a48-f04a-8fc5e56d50d6"
      },
      "source": [
        "# plot the scores\n",
        "plt.figure(figsize=(14,7))\n",
        "plt.bar([i for i in range(len(fs.scores_))], fs.scores_)\n",
        "plt.show()"
      ],
      "execution_count": 8,
      "outputs": [
        {
          "output_type": "display_data",
          "data": {
            "image/png": "[encoded data removed]",
            "text/plain": [
              "<Figure size 1008x504 with 1 Axes>"
            ]
          },
          "metadata": {
            "needs_background": "light"
          }
        }
      ]
    },
    {
      "cell_type": "markdown",
      "metadata": {
        "id": "Q6y23iUkNR4W"
      },
      "source": [
        "A bar chart of the feature importance scores for each input feature is created. The plot clearly shows 8 to 10 features are a lot more important than the other features. We could set k=10 When configuring the SelectKBest to select these top features."
      ]
    },
    {
      "cell_type": "markdown",
      "metadata": {
        "id": "XShjCJQzOesm"
      },
      "source": [
        "## Regression model built using all features (baseline)\n",
        "\n",
        "There are many different techniques for scoring features and selecting features based on scores; how do you know which one to use? A robust approach is to evaluate models using different feature selection methods (and numbers of features) and select the method that results in a model with the best performance.\n",
        "\n",
        "In this section, we will evaluate a Linear Regression model with all features compared to a model built from features selected by correlation statistics.\n",
        "\n",
        "Linear regression is a good model for testing feature selection methods as it can perform better if irrelevant features are removed from the model. As a first step, we will evaluate a LinearRegression model using all the available features. The model is fit on the training dataset and evaluated on the test dataset."
      ]
    },
    {
      "cell_type": "code",
      "metadata": {
        "colab": {
          "base_uri": "https://localhost:8080/"
        },
        "id": "o8NY-MueNHs5",
        "executionInfo": {
          "status": "ok",
          "timestamp": 1630600456085,
          "user_tz": -120,
          "elapsed": 6,
          "user": {
            "displayName": "Max Lucas Kienast",
            "photoUrl": "",
            "userId": "18136220580306165387"
          }
        },
        "outputId": "5f548947-748f-4f90-e0f4-0fee94c1ac46"
      },
      "source": [
        "# fit the model\n",
        "model = LinearRegression()\n",
        "model.fit(X_train, y_train)"
      ],
      "execution_count": 9,
      "outputs": [
        {
          "output_type": "execute_result",
          "data": {
            "text/plain": [
              "LinearRegression(copy_X=True, fit_intercept=True, n_jobs=None, normalize=False)"
            ]
          },
          "metadata": {},
          "execution_count": 9
        }
      ]
    },
    {
      "cell_type": "code",
      "metadata": {
        "id": "KrOGZhN7Phww",
        "executionInfo": {
          "status": "ok",
          "timestamp": 1630600456303,
          "user_tz": -120,
          "elapsed": 11,
          "user": {
            "displayName": "Max Lucas Kienast",
            "photoUrl": "",
            "userId": "18136220580306165387"
          }
        }
      },
      "source": [
        "# evaluate the model\n",
        "yhat = model.predict(X_test)"
      ],
      "execution_count": 10,
      "outputs": []
    },
    {
      "cell_type": "code",
      "metadata": {
        "colab": {
          "base_uri": "https://localhost:8080/"
        },
        "id": "YhukLmNRPj1X",
        "executionInfo": {
          "status": "ok",
          "timestamp": 1630600456304,
          "user_tz": -120,
          "elapsed": 12,
          "user": {
            "displayName": "Max Lucas Kienast",
            "photoUrl": "",
            "userId": "18136220580306165387"
          }
        },
        "outputId": "44f1dd97-33c9-4eb0-bc05-f349ea04ff74"
      },
      "source": [
        "# evaluate predictions\n",
        "mae = mean_absolute_error(y_test, yhat)\n",
        "print('MAE: %.3f' % mae)"
      ],
      "execution_count": 11,
      "outputs": [
        {
          "output_type": "stream",
          "name": "stdout",
          "text": [
            "MAE: 0.086\n"
          ]
        }
      ]
    },
    {
      "cell_type": "markdown",
      "metadata": {
        "id": "-Y1dJAjAPrnQ"
      },
      "source": [
        "In this case, we can see that the model achieves an error of about 0.086.\n",
        "\n",
        "We would prefer to use a subset of features that achieves an error that is as good or better than this."
      ]
    },
    {
      "cell_type": "markdown",
      "metadata": {
        "id": "J5vI4bdHPta4"
      },
      "source": [
        "## Regression model built with correlation features\n",
        "\n",
        "We can use the correlation method to score the features and select the 10 most relevant ones.\n",
        "\n",
        "The select_features() function below is updated to achieve this."
      ]
    },
    {
      "cell_type": "code",
      "metadata": {
        "id": "VkxXhszBPm9z",
        "executionInfo": {
          "status": "ok",
          "timestamp": 1630600456304,
          "user_tz": -120,
          "elapsed": 9,
          "user": {
            "displayName": "Max Lucas Kienast",
            "photoUrl": "",
            "userId": "18136220580306165387"
          }
        }
      },
      "source": [
        "# feature selection\n",
        "def select_features(X_train, y_train, X_test):\n",
        "\t# configure to select a subset of features\n",
        "\tfs = SelectKBest(score_func=f_regression, k=10)\n",
        "\t# learn relationship from training data\n",
        "\tfs.fit(X_train, y_train)\n",
        "\t# transform train input data\n",
        "\tX_train_fs = fs.transform(X_train)\n",
        "\t# transform test input data\n",
        "\tX_test_fs = fs.transform(X_test)\n",
        "\treturn X_train_fs, X_test_fs, fs"
      ],
      "execution_count": 12,
      "outputs": []
    },
    {
      "cell_type": "code",
      "metadata": {
        "id": "giK8zFKeQR-O",
        "executionInfo": {
          "status": "ok",
          "timestamp": 1630600456304,
          "user_tz": -120,
          "elapsed": 8,
          "user": {
            "displayName": "Max Lucas Kienast",
            "photoUrl": "",
            "userId": "18136220580306165387"
          }
        }
      },
      "source": [
        "# feature selection\n",
        "X_train_fs, X_test_fs, fs = select_features(X_train, y_train, X_test)"
      ],
      "execution_count": 13,
      "outputs": []
    },
    {
      "cell_type": "code",
      "metadata": {
        "colab": {
          "base_uri": "https://localhost:8080/"
        },
        "id": "5WqP96wOQapY",
        "executionInfo": {
          "status": "ok",
          "timestamp": 1630600456305,
          "user_tz": -120,
          "elapsed": 9,
          "user": {
            "displayName": "Max Lucas Kienast",
            "photoUrl": "",
            "userId": "18136220580306165387"
          }
        },
        "outputId": "9d2fce1f-4f47-4b5e-873a-70e1e14d4ea8"
      },
      "source": [
        "# fit the model\n",
        "model = LinearRegression()\n",
        "model.fit(X_train_fs, y_train)"
      ],
      "execution_count": 14,
      "outputs": [
        {
          "output_type": "execute_result",
          "data": {
            "text/plain": [
              "LinearRegression(copy_X=True, fit_intercept=True, n_jobs=None, normalize=False)"
            ]
          },
          "metadata": {},
          "execution_count": 14
        }
      ]
    },
    {
      "cell_type": "code",
      "metadata": {
        "id": "nBvrIdKtQb9m",
        "executionInfo": {
          "status": "ok",
          "timestamp": 1630600456305,
          "user_tz": -120,
          "elapsed": 7,
          "user": {
            "displayName": "Max Lucas Kienast",
            "photoUrl": "",
            "userId": "18136220580306165387"
          }
        }
      },
      "source": [
        "# evaluate the model\n",
        "yhat = model.predict(X_test_fs)"
      ],
      "execution_count": 15,
      "outputs": []
    },
    {
      "cell_type": "code",
      "metadata": {
        "colab": {
          "base_uri": "https://localhost:8080/"
        },
        "id": "nzSZ5S1FQdLY",
        "executionInfo": {
          "status": "ok",
          "timestamp": 1630600456305,
          "user_tz": -120,
          "elapsed": 7,
          "user": {
            "displayName": "Max Lucas Kienast",
            "photoUrl": "",
            "userId": "18136220580306165387"
          }
        },
        "outputId": "6c414733-566b-46ff-cdff-8fd491771347"
      },
      "source": [
        "# evaluate predictions\n",
        "mae = mean_absolute_error(y_test, yhat)\n",
        "print('MAE: %.3f' % mae)"
      ],
      "execution_count": 16,
      "outputs": [
        {
          "output_type": "stream",
          "name": "stdout",
          "text": [
            "MAE: 2.740\n"
          ]
        }
      ]
    },
    {
      "cell_type": "markdown",
      "metadata": {
        "id": "jFlkVVzlQrYw"
      },
      "source": [
        "In this case, we see that the model achieved an error score of about 2.7, which is much larger than the baseline model that used all features and achieved an MAE of 0.086.\n",
        "\n",
        "This suggests that although the method has a strong idea of what features to select, building a model from these features alone does not result in a more skillful model. This could be because features that are important to the target are being left out, meaning that the method is being deceived about what is important.\n",
        "\n",
        "Let’s go the other way and try to use the method to remove some redundant features rather than all redundant features. We can do this by setting the number of selected features to a much larger value, in this case, 88, hoping it can find and discard 12 of the 90 redundant features."
      ]
    },
    {
      "cell_type": "code",
      "metadata": {
        "id": "Rd34l3C_QdtA",
        "executionInfo": {
          "status": "ok",
          "timestamp": 1630600456306,
          "user_tz": -120,
          "elapsed": 6,
          "user": {
            "displayName": "Max Lucas Kienast",
            "photoUrl": "",
            "userId": "18136220580306165387"
          }
        }
      },
      "source": [
        "# feature selection\n",
        "def select_features(X_train, y_train, X_test):\n",
        "\t# configure to select a subset of features\n",
        "\tfs = SelectKBest(score_func=f_regression, k=88)\n",
        "\t# learn relationship from training data\n",
        "\tfs.fit(X_train, y_train)\n",
        "\t# transform train input data\n",
        "\tX_train_fs = fs.transform(X_train)\n",
        "\t# transform test input data\n",
        "\tX_test_fs = fs.transform(X_test)\n",
        "\treturn X_train_fs, X_test_fs, fs"
      ],
      "execution_count": 17,
      "outputs": []
    },
    {
      "cell_type": "code",
      "metadata": {
        "id": "mJbFYwxHRAcD",
        "executionInfo": {
          "status": "ok",
          "timestamp": 1630600456307,
          "user_tz": -120,
          "elapsed": 7,
          "user": {
            "displayName": "Max Lucas Kienast",
            "photoUrl": "",
            "userId": "18136220580306165387"
          }
        }
      },
      "source": [
        "# feature selection\n",
        "X_train_fs, X_test_fs, fs = select_features(X_train, y_train, X_test)"
      ],
      "execution_count": 18,
      "outputs": []
    },
    {
      "cell_type": "code",
      "metadata": {
        "colab": {
          "base_uri": "https://localhost:8080/"
        },
        "id": "bENNkUuwRAvb",
        "executionInfo": {
          "status": "ok",
          "timestamp": 1630600456565,
          "user_tz": -120,
          "elapsed": 265,
          "user": {
            "displayName": "Max Lucas Kienast",
            "photoUrl": "",
            "userId": "18136220580306165387"
          }
        },
        "outputId": "d8842d05-1ac8-483f-8a1c-93e5e13267e3"
      },
      "source": [
        "# fit the model\n",
        "model = LinearRegression()\n",
        "model.fit(X_train_fs, y_train)"
      ],
      "execution_count": 19,
      "outputs": [
        {
          "output_type": "execute_result",
          "data": {
            "text/plain": [
              "LinearRegression(copy_X=True, fit_intercept=True, n_jobs=None, normalize=False)"
            ]
          },
          "metadata": {},
          "execution_count": 19
        }
      ]
    },
    {
      "cell_type": "code",
      "metadata": {
        "id": "MReQoUbNRC0h",
        "executionInfo": {
          "status": "ok",
          "timestamp": 1630600456566,
          "user_tz": -120,
          "elapsed": 8,
          "user": {
            "displayName": "Max Lucas Kienast",
            "photoUrl": "",
            "userId": "18136220580306165387"
          }
        }
      },
      "source": [
        "# evaluate the model\n",
        "yhat = model.predict(X_test_fs)"
      ],
      "execution_count": 20,
      "outputs": []
    },
    {
      "cell_type": "code",
      "metadata": {
        "colab": {
          "base_uri": "https://localhost:8080/"
        },
        "id": "ZnwKVofSREmz",
        "executionInfo": {
          "status": "ok",
          "timestamp": 1630600456566,
          "user_tz": -120,
          "elapsed": 7,
          "user": {
            "displayName": "Max Lucas Kienast",
            "photoUrl": "",
            "userId": "18136220580306165387"
          }
        },
        "outputId": "08c7657d-cf9b-45b6-b088-7115235ffd22"
      },
      "source": [
        "# evaluate predictions\n",
        "mae = mean_absolute_error(y_test, yhat)\n",
        "print('MAE: %.3f' % mae)"
      ],
      "execution_count": 21,
      "outputs": [
        {
          "output_type": "stream",
          "name": "stdout",
          "text": [
            "MAE: 0.085\n"
          ]
        }
      ]
    },
    {
      "cell_type": "markdown",
      "metadata": {
        "id": "h5Xi8q6cRKBF"
      },
      "source": [
        "In this case, we can see that removing some of the redundant features has resulted in a small lift in performance with an error of about 0.085 compared to the baseline that achieved an error of about 0.086."
      ]
    },
    {
      "cell_type": "markdown",
      "metadata": {
        "id": "7dTG59LRROoY"
      },
      "source": [
        "## Grid Search: Tune the Number of Selected Features\n",
        "\n",
        "In the previous example, we selected 88 features, but how do we know that is a good or best number of features to select? Instead of guessing, we can systematically test a range of different numbers of selected features and discover which results in the best performing model. This is called a grid search, where the k argument to the SelectKBest class can be tuned.\n",
        "\n",
        "It is a good practice to evaluate model configurations on regression tasks using repeated stratified k-fold cross-validation. We will use three repeats of 10-fold cross-validation via the RepeatedKFold class.\n",
        "\n",
        "We can define a Pipeline that correctly prepares the feature selection transform on the training set and applies it to the train set and test set for each fold of the cross-validation."
      ]
    },
    {
      "cell_type": "code",
      "metadata": {
        "id": "vP6NhQy0RGR9",
        "executionInfo": {
          "status": "ok",
          "timestamp": 1630600456567,
          "user_tz": -120,
          "elapsed": 6,
          "user": {
            "displayName": "Max Lucas Kienast",
            "photoUrl": "",
            "userId": "18136220580306165387"
          }
        }
      },
      "source": [
        "# define dataset\n",
        "X, y = make_regression(n_samples=1000, n_features=100, n_informative=10, noise=0.1, random_state=1)"
      ],
      "execution_count": 22,
      "outputs": []
    },
    {
      "cell_type": "code",
      "metadata": {
        "id": "bt_V-l7LTSoc",
        "executionInfo": {
          "status": "ok",
          "timestamp": 1630600456567,
          "user_tz": -120,
          "elapsed": 5,
          "user": {
            "displayName": "Max Lucas Kienast",
            "photoUrl": "",
            "userId": "18136220580306165387"
          }
        }
      },
      "source": [
        "# define the evaluation method\n",
        "cv = RepeatedKFold(n_splits=10, n_repeats=3, random_state=1)"
      ],
      "execution_count": 23,
      "outputs": []
    },
    {
      "cell_type": "code",
      "metadata": {
        "id": "qE-XTIeNTUV7",
        "executionInfo": {
          "status": "ok",
          "timestamp": 1630600456567,
          "user_tz": -120,
          "elapsed": 5,
          "user": {
            "displayName": "Max Lucas Kienast",
            "photoUrl": "",
            "userId": "18136220580306165387"
          }
        }
      },
      "source": [
        "# define the pipeline to evaluate\n",
        "model = LinearRegression()\n",
        "fs = SelectKBest(score_func=f_regression)\n",
        "pipeline = Pipeline(steps=[('sel',fs), ('lr', model)])"
      ],
      "execution_count": 24,
      "outputs": []
    },
    {
      "cell_type": "markdown",
      "metadata": {
        "id": "DB7ES8vDT1C7"
      },
      "source": [
        "We can then define the grid of values to evaluate as 80 to 100.\n",
        "\n",
        "Note that the grid is a dictionary mapping of parameter-to-values to search, and given that we are using a Pipeline, we can access the SelectKBest object via the name we gave it ‘sel‘ and then the parameter name ‘k‘ separated by two underscores, or ‘sel__k‘."
      ]
    },
    {
      "cell_type": "code",
      "metadata": {
        "id": "pNEfvfH7Tcql",
        "executionInfo": {
          "status": "ok",
          "timestamp": 1630600456568,
          "user_tz": -120,
          "elapsed": 6,
          "user": {
            "displayName": "Max Lucas Kienast",
            "photoUrl": "",
            "userId": "18136220580306165387"
          }
        }
      },
      "source": [
        "# define the grid\n",
        "grid = dict()\n",
        "grid['sel__k'] = [i for i in range(X.shape[1]-20, X.shape[1]+1)]"
      ],
      "execution_count": 25,
      "outputs": []
    },
    {
      "cell_type": "markdown",
      "metadata": {
        "id": "zhIBVVPRUCbZ"
      },
      "source": [
        "We can then define and run the search.\n",
        "\n",
        "In this case, we will evaluate models using the negative mean absolute error (neg_mean_absolute_error). It is negative because the scikit-learn requires the score to be maximized, so the MAE is made negative, meaning scores scale from -infinity to 0 (best)"
      ]
    },
    {
      "cell_type": "code",
      "metadata": {
        "id": "NmdCmsu2TlJW",
        "executionInfo": {
          "status": "ok",
          "timestamp": 1630600456568,
          "user_tz": -120,
          "elapsed": 5,
          "user": {
            "displayName": "Max Lucas Kienast",
            "photoUrl": "",
            "userId": "18136220580306165387"
          }
        }
      },
      "source": [
        "# define the grid search\n",
        "search = GridSearchCV(pipeline, grid, scoring='neg_mean_squared_error', n_jobs=-1, cv=cv)"
      ],
      "execution_count": 26,
      "outputs": []
    },
    {
      "cell_type": "code",
      "metadata": {
        "id": "PXOP3MtkT-KZ",
        "executionInfo": {
          "status": "ok",
          "timestamp": 1630600462654,
          "user_tz": -120,
          "elapsed": 6091,
          "user": {
            "displayName": "Max Lucas Kienast",
            "photoUrl": "",
            "userId": "18136220580306165387"
          }
        }
      },
      "source": [
        "# perform the search\n",
        "results = search.fit(X, y)"
      ],
      "execution_count": 27,
      "outputs": []
    },
    {
      "cell_type": "code",
      "metadata": {
        "colab": {
          "base_uri": "https://localhost:8080/"
        },
        "id": "IXjmxrtyUG8S",
        "executionInfo": {
          "status": "ok",
          "timestamp": 1630600462655,
          "user_tz": -120,
          "elapsed": 19,
          "user": {
            "displayName": "Max Lucas Kienast",
            "photoUrl": "",
            "userId": "18136220580306165387"
          }
        },
        "outputId": "320c93b0-49b0-47e0-e0de-ce26671477c6"
      },
      "source": [
        "# summarize best\n",
        "print('Best MAE: %.3f' % results.best_score_)\n",
        "print('Best Config: %s' % results.best_params_)"
      ],
      "execution_count": 28,
      "outputs": [
        {
          "output_type": "stream",
          "name": "stdout",
          "text": [
            "Best MAE: -0.011\n",
            "Best Config: {'sel__k': 100}\n"
          ]
        }
      ]
    },
    {
      "cell_type": "code",
      "metadata": {
        "colab": {
          "base_uri": "https://localhost:8080/"
        },
        "id": "2mPAbPq1UI1q",
        "executionInfo": {
          "status": "ok",
          "timestamp": 1630600462655,
          "user_tz": -120,
          "elapsed": 15,
          "user": {
            "displayName": "Max Lucas Kienast",
            "photoUrl": "",
            "userId": "18136220580306165387"
          }
        },
        "outputId": "18995e3f-f6a1-4333-b3ca-70afa4118787"
      },
      "source": [
        "# summarize all\n",
        "means = results.cv_results_['mean_test_score']\n",
        "params = results.cv_results_['params']\n",
        "for mean, param in zip(means, params):\n",
        "    print(\">%.3f with: %r\" % (mean, param))"
      ],
      "execution_count": 29,
      "outputs": [
        {
          "output_type": "stream",
          "name": "stdout",
          "text": [
            ">-10.533 with: {'sel__k': 80}\n",
            ">-9.663 with: {'sel__k': 81}\n",
            ">-8.907 with: {'sel__k': 82}\n",
            ">-8.366 with: {'sel__k': 83}\n",
            ">-7.888 with: {'sel__k': 84}\n",
            ">-7.462 with: {'sel__k': 85}\n",
            ">-7.490 with: {'sel__k': 86}\n",
            ">-6.138 with: {'sel__k': 87}\n",
            ">-4.363 with: {'sel__k': 88}\n",
            ">-3.965 with: {'sel__k': 89}\n",
            ">-3.965 with: {'sel__k': 90}\n",
            ">-3.583 with: {'sel__k': 91}\n",
            ">-3.582 with: {'sel__k': 92}\n",
            ">-3.092 with: {'sel__k': 93}\n",
            ">-3.089 with: {'sel__k': 94}\n",
            ">-3.091 with: {'sel__k': 95}\n",
            ">-2.655 with: {'sel__k': 96}\n",
            ">-1.790 with: {'sel__k': 97}\n",
            ">-1.369 with: {'sel__k': 98}\n",
            ">-0.506 with: {'sel__k': 99}\n",
            ">-0.011 with: {'sel__k': 100}\n"
          ]
        }
      ]
    },
    {
      "cell_type": "markdown",
      "metadata": {
        "id": "JXcCoAs6VAue"
      },
      "source": [
        "Running the example grid searches different numbers of selected features using mutual information statistics, where each modeling pipeline is evaluated using repeated cross-validation.\n",
        "\n",
        "In this case, we can see that the best number of selected features is 100, which achieves a MAE of about 0.011 (ignoring the sign)."
      ]
    },
    {
      "cell_type": "markdown",
      "metadata": {
        "id": "6ynU6JOcVu9h"
      },
      "source": [
        "We might want to see the relationship between the number of selected features and MAE. In this relationship, we may expect that more features result in better performance, to a point.\n",
        "\n",
        "This relationship can be explored by manually evaluating each configuration of k for the SelectKBest from 81 to 100, gathering the sample of MAE scores, and plotting the results using box and whisker plots side by side. The spread and mean of these box plots would be expected to show any interesting relationship between the number of selected features and the MAE of the pipeline.\n",
        "\n",
        "Note that we started the spread of k values at 93 instead of 80 because the distribution of MAE scores for k=80 is dramatically larger than all other values of k considered and it washed out the plot of the results on the graph."
      ]
    },
    {
      "cell_type": "code",
      "metadata": {
        "id": "GsFM_LRGUMrr",
        "executionInfo": {
          "status": "ok",
          "timestamp": 1630600462656,
          "user_tz": -120,
          "elapsed": 14,
          "user": {
            "displayName": "Max Lucas Kienast",
            "photoUrl": "",
            "userId": "18136220580306165387"
          }
        }
      },
      "source": [
        "# define dataset\n",
        "X, y = make_regression(n_samples=1000, n_features=100, n_informative=10, noise=0.1, random_state=1)"
      ],
      "execution_count": 30,
      "outputs": []
    },
    {
      "cell_type": "code",
      "metadata": {
        "id": "AkRgDEkMV1GU",
        "executionInfo": {
          "status": "ok",
          "timestamp": 1630600462656,
          "user_tz": -120,
          "elapsed": 14,
          "user": {
            "displayName": "Max Lucas Kienast",
            "photoUrl": "",
            "userId": "18136220580306165387"
          }
        }
      },
      "source": [
        "# define number of features to evaluate\n",
        "num_features = [i for i in range(X.shape[1]-19, X.shape[1]-7)]"
      ],
      "execution_count": 31,
      "outputs": []
    },
    {
      "cell_type": "code",
      "metadata": {
        "colab": {
          "base_uri": "https://localhost:8080/"
        },
        "id": "NZ91jkU3V3ZO",
        "executionInfo": {
          "status": "ok",
          "timestamp": 1630600465944,
          "user_tz": -120,
          "elapsed": 3302,
          "user": {
            "displayName": "Max Lucas Kienast",
            "photoUrl": "",
            "userId": "18136220580306165387"
          }
        },
        "outputId": "1226cb6b-ce1c-427d-fa0d-63494c0ec590"
      },
      "source": [
        "# enumerate each number of features\n",
        "results = list()\n",
        "for k in num_features:\n",
        "\t# create pipeline\n",
        "\tmodel = LinearRegression()\n",
        "\tfs = SelectKBest(score_func=f_regression, k=k)\n",
        "\tpipeline = Pipeline(steps=[('sel',fs), ('lr', model)])\n",
        "\t# evaluate the model\n",
        "\tcv = RepeatedKFold(n_splits=10, n_repeats=3, random_state=1)\n",
        "\tscores = cross_val_score(pipeline, X, y, scoring='neg_mean_absolute_error', cv=cv, n_jobs=-1)\n",
        "\tresults.append(scores)\n",
        "\t# summarize the results\n",
        "\tprint('>%d %.3f (%.3f)' % (k, np.mean(scores), np.std(scores)))"
      ],
      "execution_count": 32,
      "outputs": [
        {
          "output_type": "stream",
          "name": "stdout",
          "text": [
            ">81 -2.137 (1.243)\n",
            ">82 -1.958 (1.331)\n",
            ">83 -1.853 (1.350)\n",
            ">84 -1.756 (1.369)\n",
            ">85 -1.663 (1.385)\n",
            ">86 -1.667 (1.388)\n",
            ">87 -1.389 (1.399)\n",
            ">88 -1.016 (1.323)\n",
            ">89 -0.927 (1.293)\n",
            ">90 -0.928 (1.294)\n",
            ">91 -0.842 (1.261)\n",
            ">92 -0.842 (1.262)\n"
          ]
        }
      ]
    },
    {
      "cell_type": "code",
      "metadata": {
        "colab": {
          "base_uri": "https://localhost:8080/",
          "height": 428
        },
        "id": "TgUulUTmV5bU",
        "executionInfo": {
          "status": "ok",
          "timestamp": 1630600466346,
          "user_tz": -120,
          "elapsed": 414,
          "user": {
            "displayName": "Max Lucas Kienast",
            "photoUrl": "",
            "userId": "18136220580306165387"
          }
        },
        "outputId": "2ec81024-528a-44a5-88ac-e5d10d9143d4"
      },
      "source": [
        "# plot model performance for comparison\n",
        "plt.figure(figsize=(14,7))\n",
        "plt.boxplot(results, labels=num_features, showmeans=True)\n",
        "plt.show()"
      ],
      "execution_count": 33,
      "outputs": [
        {
          "output_type": "display_data",
          "data": {
            "image/png": "[encoded data removed]",
            "text/plain": [
              "<Figure size 1008x504 with 1 Axes>"
            ]
          },
          "metadata": {
            "needs_background": "light"
          }
        }
      ]
    },
    {
      "cell_type": "markdown",
      "metadata": {
        "id": "vffo9QzCXCJt"
      },
      "source": [
        "Box and whisker plots are created side by side showing the trend of k vs. MAE where the green triangle represents the mean and orange line represents the median of the distribution."
      ]
    },
    {
      "cell_type": "code",
      "metadata": {
        "id": "laDVdbgjWMLg",
        "executionInfo": {
          "status": "ok",
          "timestamp": 1630600466346,
          "user_tz": -120,
          "elapsed": 5,
          "user": {
            "displayName": "Max Lucas Kienast",
            "photoUrl": "",
            "userId": "18136220580306165387"
          }
        }
      },
      "source": [
        ""
      ],
      "execution_count": 33,
      "outputs": []
    }
  ]
}
