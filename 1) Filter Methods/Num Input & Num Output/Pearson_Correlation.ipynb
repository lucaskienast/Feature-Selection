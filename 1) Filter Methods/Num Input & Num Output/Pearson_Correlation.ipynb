{
  "nbformat": 4,
  "nbformat_minor": 0,
  "metadata": {
    "colab": {
      "name": "Pearson Correlation.ipynb",
      "provenance": [],
      "collapsed_sections": []
    },
    "kernelspec": {
      "name": "python3",
      "display_name": "Python 3"
    },
    "language_info": {
      "name": "python"
    }
  },
  "cells": [
    {
      "cell_type": "markdown",
      "metadata": {
        "id": "YtqJD2O0zuLQ"
      },
      "source": [
        "# Regression Feature Selection: Numerical Input & Output (Pearson's Correlation)\n",
        "\n",
        "This section demonstrates feature selection for a regression problem that as numerical inputs and numerical outputs. A test regression problem is prepared using the make_regression() function. Feature selection is performed using Pearson’s Correlation Coefficient via the f_regression() function. This section demonstrates feature selection for a regression problem that as numerical inputs and numerical outputs. A test regression problem is prepared using the make_regression() function. Feature selection is performed using Pearson’s Correlation Coefficient via the f_regression() function."
      ]
    },
    {
      "cell_type": "markdown",
      "metadata": {
        "id": "yRtq79t70GqW"
      },
      "source": [
        "## Import libraries"
      ]
    },
    {
      "cell_type": "code",
      "metadata": {
        "id": "BPotm2argFVn"
      },
      "source": [
        "from sklearn.datasets import make_regression\n",
        "from sklearn.feature_selection import SelectKBest\n",
        "from sklearn.feature_selection import f_regression"
      ],
      "execution_count": 1,
      "outputs": []
    },
    {
      "cell_type": "markdown",
      "metadata": {
        "id": "VVmOXQPw0LMD"
      },
      "source": [
        "## Load data"
      ]
    },
    {
      "cell_type": "code",
      "metadata": {
        "colab": {
          "base_uri": "https://localhost:8080/"
        },
        "id": "RGqfvT9x0JEb",
        "outputId": "cdbe86f8-21cf-4efa-f3b8-942059aa3172"
      },
      "source": [
        "# generate dataset\n",
        "X, y = make_regression(n_samples=100, n_features=100, n_informative=10)\n",
        "print(X.shape, y.shape)"
      ],
      "execution_count": 2,
      "outputs": [
        {
          "output_type": "stream",
          "name": "stdout",
          "text": [
            "(100, 100) (100,)\n"
          ]
        }
      ]
    },
    {
      "cell_type": "markdown",
      "metadata": {
        "id": "8-LeEp6q0Qjw"
      },
      "source": [
        "## Feature Selection"
      ]
    },
    {
      "cell_type": "code",
      "metadata": {
        "id": "pIPgECkZ0POj"
      },
      "source": [
        "# define feature selection\n",
        "fs = SelectKBest(score_func=f_regression, k=10)"
      ],
      "execution_count": 3,
      "outputs": []
    },
    {
      "cell_type": "code",
      "metadata": {
        "colab": {
          "base_uri": "https://localhost:8080/"
        },
        "id": "eDZW3rDC0WDd",
        "outputId": "cebd3a24-98a3-4393-eee7-fc694edf0b1c"
      },
      "source": [
        "# apply feature selection\n",
        "X_selected = fs.fit_transform(X, y)\n",
        "print(X_selected.shape)"
      ],
      "execution_count": 4,
      "outputs": [
        {
          "output_type": "stream",
          "name": "stdout",
          "text": [
            "(100, 10)\n"
          ]
        }
      ]
    },
    {
      "cell_type": "code",
      "metadata": {
        "id": "pUXFZCej0Wht"
      },
      "source": [
        ""
      ],
      "execution_count": null,
      "outputs": []
    }
  ]
}