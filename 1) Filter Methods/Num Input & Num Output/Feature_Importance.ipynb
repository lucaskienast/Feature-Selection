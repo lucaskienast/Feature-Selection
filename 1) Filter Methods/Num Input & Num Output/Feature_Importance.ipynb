{
  "nbformat": 4,
  "nbformat_minor": 0,
  "metadata": {
    "colab": {
      "name": "Feature Importance.ipynb",
      "provenance": [],
      "collapsed_sections": []
    },
    "kernelspec": {
      "name": "python3",
      "display_name": "Python 3"
    },
    "language_info": {
      "name": "python"
    }
  },
  "cells": [
    {
      "cell_type": "markdown",
      "metadata": {
        "id": "eCEeFLFP9Y2z"
      },
      "source": [
        "# Regression Feature Selection: Numerical Input & Output (Feature Importance)\n",
        "\n",
        "Feature importance refers to a class of techniques for assigning scores to input features to a predictive model that indicates the relative importance of each feature when making a prediction. Feature importance scores can be calculated for problems that involve predicting a numerical value, called regression, and those problems that involve predicting a class label, called classification.\n",
        "\n",
        "Feature importance scores can provide insight into the dataset. The relative scores can highlight which features may be most relevant to the target, and the converse, which features are the least relevant. This may be interpreted by a domain expert and could be used as the basis for gathering more or different data.\n",
        "\n",
        "Feature importance scores can provide insight into the model. Most importance scores are calculated by a predictive model that has been fit on the dataset. Inspecting the importance score provides insight into that specific model and which features are the most important and least important to the model when making a prediction. This is a type of model interpretation that can be performed for those models that support it.\n",
        "\n",
        "Feature importance can be used to improve a predictive model. This can be achieved by using the importance scores to select those features to delete (lowest scores) or those features to keep (highest scores). This is a type of feature selection and can simplify the problem that is being modeled, speed up the modeling process (deleting features is called dimensionality reduction), and in some cases, improve the performance of the model."
      ]
    },
    {
      "cell_type": "markdown",
      "metadata": {
        "id": "FjIfX1Rb9w8Z"
      },
      "source": [
        "## Import libraries"
      ]
    },
    {
      "cell_type": "code",
      "metadata": {
        "id": "r9WdVLPv6CL6"
      },
      "source": [
        "import numpy as np\n",
        "import matplotlib.pyplot as plt\n",
        "from sklearn.datasets import make_regression\n",
        "from sklearn.linear_model import LinearRegression"
      ],
      "execution_count": 1,
      "outputs": []
    },
    {
      "cell_type": "markdown",
      "metadata": {
        "id": "bzqpNBBJ93pw"
      },
      "source": [
        "## Load data\n",
        "\n",
        "We will use the make_regression() function to create a test regression dataset.\n",
        "\n",
        "Like the classification dataset, the regression dataset will have 1,000 examples, with 10 input features, five of which will be informative and the remaining five that will be redundant."
      ]
    },
    {
      "cell_type": "code",
      "metadata": {
        "colab": {
          "base_uri": "https://localhost:8080/"
        },
        "id": "r8bdoxt4927b",
        "outputId": "366a258e-22e8-4d16-d099-1c8355464f89"
      },
      "source": [
        "# define dataset\n",
        "X, y = make_regression(n_samples=1000, n_features=10, n_informative=5, random_state=1)\n",
        "print(X.shape, y.shape)"
      ],
      "execution_count": 2,
      "outputs": [
        {
          "output_type": "stream",
          "name": "stdout",
          "text": [
            "(1000, 10) (1000,)\n"
          ]
        }
      ]
    },
    {
      "cell_type": "markdown",
      "metadata": {
        "id": "Q2d4IDur-BlX"
      },
      "source": [
        "## Linear regression feature importance\n",
        "\n",
        "We can fit a LinearRegression model on the regression dataset and retrieve the coeff_ property that contains the coefficients found for each input variable.\n",
        "\n",
        "These coefficients can provide the basis for a crude feature importance score. This assumes that the input variables have the same scale or have been scaled prior to fitting a model."
      ]
    },
    {
      "cell_type": "code",
      "metadata": {
        "id": "vg7hBInE-AAo"
      },
      "source": [
        "# define the model\n",
        "model = LinearRegression()"
      ],
      "execution_count": 3,
      "outputs": []
    },
    {
      "cell_type": "code",
      "metadata": {
        "colab": {
          "base_uri": "https://localhost:8080/"
        },
        "id": "mdzs4aSi-MmX",
        "outputId": "2a697f9b-ba42-4561-c77e-f2c799cfd09b"
      },
      "source": [
        "# fit the model\n",
        "model.fit(X, y)"
      ],
      "execution_count": 4,
      "outputs": [
        {
          "output_type": "execute_result",
          "data": {
            "text/plain": [
              "LinearRegression(copy_X=True, fit_intercept=True, n_jobs=None, normalize=False)"
            ]
          },
          "metadata": {},
          "execution_count": 4
        }
      ]
    },
    {
      "cell_type": "code",
      "metadata": {
        "id": "2w62DDNg-OQn"
      },
      "source": [
        "# get importance\n",
        "importance = model.coef_"
      ],
      "execution_count": 5,
      "outputs": []
    },
    {
      "cell_type": "code",
      "metadata": {
        "colab": {
          "base_uri": "https://localhost:8080/"
        },
        "id": "fkP3Re70-Rbh",
        "outputId": "bd20331a-7ca7-4549-cf7a-7c211ac4c7e4"
      },
      "source": [
        "# summarize feature importance\n",
        "for i,v in enumerate(importance):\n",
        "\tprint('Feature: %0d, Score: %.5f' % (i,v))"
      ],
      "execution_count": 6,
      "outputs": [
        {
          "output_type": "stream",
          "name": "stdout",
          "text": [
            "Feature: 0, Score: -0.00000\n",
            "Feature: 1, Score: 12.44483\n",
            "Feature: 2, Score: -0.00000\n",
            "Feature: 3, Score: -0.00000\n",
            "Feature: 4, Score: 93.32225\n",
            "Feature: 5, Score: 86.50811\n",
            "Feature: 6, Score: 26.74607\n",
            "Feature: 7, Score: 3.28535\n",
            "Feature: 8, Score: -0.00000\n",
            "Feature: 9, Score: 0.00000\n"
          ]
        }
      ]
    },
    {
      "cell_type": "code",
      "metadata": {
        "colab": {
          "base_uri": "https://localhost:8080/",
          "height": 428
        },
        "id": "TxUbxLwO-TQx",
        "outputId": "ee236085-d794-4bf8-8f74-4da5f668a7fd"
      },
      "source": [
        "# plot feature importance\n",
        "plt.figure(figsize=(14,7))\n",
        "plt.bar([x for x in range(len(importance))], importance)\n",
        "plt.show()"
      ],
      "execution_count": 7,
      "outputs": [
        {
          "output_type": "display_data",
          "data": {
            "image/png": "[encoded data removed]",
            "text/plain": [
              "<Figure size 1008x504 with 1 Axes>"
            ]
          },
          "metadata": {
            "needs_background": "light"
          }
        }
      ]
    },
    {
      "cell_type": "markdown",
      "metadata": {
        "id": "FYMHJCHF-c3P"
      },
      "source": [
        "Running the example fits the model, then reports the coefficient value for each feature.\n",
        "\n",
        "The scores suggest that the model found the five important features and marked all other features with a zero coefficient, essentially removing them from the model.\n",
        "\n",
        "This approach may also be used with Ridge and ElasticNet models."
      ]
    },
    {
      "cell_type": "code",
      "metadata": {
        "id": "sE0rRSAz-anh"
      },
      "source": [
        ""
      ],
      "execution_count": 7,
      "outputs": []
    }
  ]
}