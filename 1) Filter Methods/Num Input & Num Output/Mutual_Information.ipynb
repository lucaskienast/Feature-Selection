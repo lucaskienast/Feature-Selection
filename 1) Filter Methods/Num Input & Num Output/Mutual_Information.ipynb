{
  "nbformat": 4,
  "nbformat_minor": 0,
  "metadata": {
    "colab": {
      "name": "Mutual Information.ipynb",
      "provenance": [],
      "collapsed_sections": []
    },
    "kernelspec": {
      "name": "python3",
      "display_name": "Python 3"
    },
    "language_info": {
      "name": "python"
    }
  },
  "cells": [
    {
      "cell_type": "markdown",
      "metadata": {
        "id": "YtqJD2O0zuLQ"
      },
      "source": [
        "# Mutual Information \n",
        "\n",
        "## Regression Feature Selection (Numerical Input & Output) \n",
        "\n",
        "This section demonstrates feature selection for a regression problem that as numerical inputs and numerical outputs. A test regression problem is prepared using the make_regression() function. \n",
        "\n"
      ]
    },
    {
      "cell_type": "markdown",
      "metadata": {
        "id": "yRtq79t70GqW"
      },
      "source": [
        "## Import libraries"
      ]
    },
    {
      "cell_type": "code",
      "metadata": {
        "id": "BPotm2argFVn"
      },
      "source": [
        "import numpy as np\n",
        "import pandas as pd\n",
        "import matplotlib.pyplot as plt\n",
        "from sklearn.model_selection import train_test_split\n",
        "from sklearn.datasets import make_regression\n",
        "from sklearn.feature_selection import SelectKBest\n",
        "from sklearn.feature_selection import mutual_info_regression\n",
        "from sklearn.linear_model import LinearRegression\n",
        "from sklearn.metrics import mean_absolute_error\n",
        "from sklearn.pipeline import Pipeline\n",
        "from sklearn.model_selection import GridSearchCV\n",
        "from sklearn.model_selection import RepeatedKFold\n",
        "from sklearn.model_selection import cross_val_score"
      ],
      "execution_count": 1,
      "outputs": []
    },
    {
      "cell_type": "markdown",
      "metadata": {
        "id": "VVmOXQPw0LMD"
      },
      "source": [
        "## Load data\n",
        "\n",
        "In this case, we will define a dataset with 1,000 samples, each with 100 input features where 10 are informative and the remaining 90 are redundant."
      ]
    },
    {
      "cell_type": "code",
      "metadata": {
        "colab": {
          "base_uri": "https://localhost:8080/"
        },
        "id": "ScEhRrQYLWSC",
        "outputId": "aa7411c8-ae09-4022-e1ad-0afec3e5749e"
      },
      "source": [
        "# generate regression dataset\n",
        "X, y = make_regression(n_samples=1000, n_features=100, n_informative=10, noise=0.1, random_state=1)\n",
        "print(X.shape, y.shape)"
      ],
      "execution_count": 2,
      "outputs": [
        {
          "output_type": "stream",
          "name": "stdout",
          "text": [
            "(1000, 100) (1000,)\n"
          ]
        }
      ]
    },
    {
      "cell_type": "markdown",
      "metadata": {
        "id": "d6jYLJu4MIXU"
      },
      "source": [
        "## Train-Test Split"
      ]
    },
    {
      "cell_type": "code",
      "metadata": {
        "id": "-Tr2hPlyMHVh"
      },
      "source": [
        "# split into train and test sets (67:33)\n",
        "X_train, X_test, y_train, y_test = train_test_split(X, y, test_size=0.33, random_state=1)"
      ],
      "execution_count": 3,
      "outputs": []
    },
    {
      "cell_type": "code",
      "metadata": {
        "colab": {
          "base_uri": "https://localhost:8080/"
        },
        "id": "t_pYH7HRMNI4",
        "outputId": "84b89620-347d-4aed-b1c8-1fb8f2afac65"
      },
      "source": [
        "# summarize\n",
        "print('Train', X_train.shape, y_train.shape)\n",
        "print('Test', X_test.shape, y_test.shape)"
      ],
      "execution_count": 4,
      "outputs": [
        {
          "output_type": "stream",
          "name": "stdout",
          "text": [
            "Train (670, 100) (670,)\n",
            "Test (330, 100) (330,)\n"
          ]
        }
      ]
    },
    {
      "cell_type": "markdown",
      "metadata": {
        "id": "c4aOP8Y6MU0A"
      },
      "source": [
        "## Mutual information feature selection\n",
        "\n",
        "Mutual information from the field of information theory is the application of information gain (typically used in the construction of decision trees) to feature selection. Mutual information is calculated between two variables and measures the reduction in uncertainty for one variable given a known value of the other variable. Mutual information is straightforward when considering the distribution of two discrete (categorical or ordinal) variables, such as categorical input and categorical output data. Nevertheless, it can be adapted for use with numerical input and output data.\n",
        "\n",
        "The scikit-learn machine learning library provides an implementation of mutual information for feature selection with numeric input and output variables via the mutual_info_regression() function. Like f_regression(), it can be used in the SelectKBest feature selection strategy (and other strategies)."
      ]
    },
    {
      "cell_type": "code",
      "metadata": {
        "id": "UEKzrcI6MNbo"
      },
      "source": [
        "# feature selection\n",
        "def select_features(X_train, y_train, X_test):\n",
        "\t# configure to select all features\n",
        "\tfs = SelectKBest(score_func=mutual_info_regression, k='all')\n",
        "\t# learn relationship from training data\n",
        "\tfs.fit(X_train, y_train)\n",
        "\t# transform train input data\n",
        "\tX_train_fs = fs.transform(X_train)\n",
        "\t# transform test input data\n",
        "\tX_test_fs = fs.transform(X_test)\n",
        "\treturn X_train_fs, X_test_fs, fs"
      ],
      "execution_count": 5,
      "outputs": []
    },
    {
      "cell_type": "code",
      "metadata": {
        "id": "CIDhR5IOM3Le"
      },
      "source": [
        "# feature selection\n",
        "X_train_fs, X_test_fs, fs = select_features(X_train, y_train, X_test)"
      ],
      "execution_count": 6,
      "outputs": []
    },
    {
      "cell_type": "code",
      "metadata": {
        "colab": {
          "base_uri": "https://localhost:8080/"
        },
        "id": "UanK1RcNNAVY",
        "outputId": "70817e91-a344-45e3-ad7a-490df7f3d434"
      },
      "source": [
        "# what are scores for the features\n",
        "for i in range(len(fs.scores_)):\n",
        "\tprint('Feature %d: %f' % (i, fs.scores_[i]))"
      ],
      "execution_count": 7,
      "outputs": [
        {
          "output_type": "stream",
          "name": "stdout",
          "text": [
            "Feature 0: 0.045484\n",
            "Feature 1: 0.000000\n",
            "Feature 2: 0.000000\n",
            "Feature 3: 0.000000\n",
            "Feature 4: 0.024816\n",
            "Feature 5: 0.000000\n",
            "Feature 6: 0.022659\n",
            "Feature 7: 0.000000\n",
            "Feature 8: 0.000000\n",
            "Feature 9: 0.074320\n",
            "Feature 10: 0.000000\n",
            "Feature 11: 0.000000\n",
            "Feature 12: 0.000000\n",
            "Feature 13: 0.000000\n",
            "Feature 14: 0.020390\n",
            "Feature 15: 0.004307\n",
            "Feature 16: 0.000000\n",
            "Feature 17: 0.000000\n",
            "Feature 18: 0.016566\n",
            "Feature 19: 0.003688\n",
            "Feature 20: 0.007579\n",
            "Feature 21: 0.018640\n",
            "Feature 22: 0.025206\n",
            "Feature 23: 0.017967\n",
            "Feature 24: 0.069173\n",
            "Feature 25: 0.000000\n",
            "Feature 26: 0.022232\n",
            "Feature 27: 0.000000\n",
            "Feature 28: 0.007849\n",
            "Feature 29: 0.012849\n",
            "Feature 30: 0.017402\n",
            "Feature 31: 0.008083\n",
            "Feature 32: 0.047321\n",
            "Feature 33: 0.002829\n",
            "Feature 34: 0.028968\n",
            "Feature 35: 0.000000\n",
            "Feature 36: 0.071652\n",
            "Feature 37: 0.027969\n",
            "Feature 38: 0.000000\n",
            "Feature 39: 0.064796\n",
            "Feature 40: 0.137695\n",
            "Feature 41: 0.008732\n",
            "Feature 42: 0.003983\n",
            "Feature 43: 0.000000\n",
            "Feature 44: 0.009387\n",
            "Feature 45: 0.000000\n",
            "Feature 46: 0.038385\n",
            "Feature 47: 0.000000\n",
            "Feature 48: 0.000000\n",
            "Feature 49: 0.000000\n",
            "Feature 50: 0.000000\n",
            "Feature 51: 0.000000\n",
            "Feature 52: 0.000000\n",
            "Feature 53: 0.008130\n",
            "Feature 54: 0.041779\n",
            "Feature 55: 0.000000\n",
            "Feature 56: 0.000000\n",
            "Feature 57: 0.000000\n",
            "Feature 58: 0.031228\n",
            "Feature 59: 0.002689\n",
            "Feature 60: 0.146192\n",
            "Feature 61: 0.000000\n",
            "Feature 62: 0.000000\n",
            "Feature 63: 0.000000\n",
            "Feature 64: 0.018194\n",
            "Feature 65: 0.021368\n",
            "Feature 66: 0.046071\n",
            "Feature 67: 0.034707\n",
            "Feature 68: 0.033530\n",
            "Feature 69: 0.002262\n",
            "Feature 70: 0.018332\n",
            "Feature 71: 0.000000\n",
            "Feature 72: 0.000000\n",
            "Feature 73: 0.074876\n",
            "Feature 74: 0.000000\n",
            "Feature 75: 0.004429\n",
            "Feature 76: 0.002617\n",
            "Feature 77: 0.031354\n",
            "Feature 78: 0.000000\n",
            "Feature 79: 0.000000\n",
            "Feature 80: 0.000000\n",
            "Feature 81: 0.033931\n",
            "Feature 82: 0.010400\n",
            "Feature 83: 0.019373\n",
            "Feature 84: 0.000000\n",
            "Feature 85: 0.033191\n",
            "Feature 86: 0.000000\n",
            "Feature 87: 0.028745\n",
            "Feature 88: 0.000000\n",
            "Feature 89: 0.000000\n",
            "Feature 90: 0.000000\n",
            "Feature 91: 0.017698\n",
            "Feature 92: 0.129797\n",
            "Feature 93: 0.000000\n",
            "Feature 94: 0.002171\n",
            "Feature 95: 0.029995\n",
            "Feature 96: 0.000000\n",
            "Feature 97: 0.014428\n",
            "Feature 98: 0.000000\n",
            "Feature 99: 0.000000\n"
          ]
        }
      ]
    },
    {
      "cell_type": "code",
      "metadata": {
        "colab": {
          "base_uri": "https://localhost:8080/",
          "height": 428
        },
        "id": "KnyvNqf1NCEn",
        "outputId": "6e559a94-9a6d-4930-fde3-92f8b6fcc9fa"
      },
      "source": [
        "# plot the scores\n",
        "plt.figure(figsize=(14,7))\n",
        "plt.bar([i for i in range(len(fs.scores_))], fs.scores_)\n",
        "plt.show()"
      ],
      "execution_count": 8,
      "outputs": [
        {
          "output_type": "display_data",
          "data": {
            "image/png": "[encoded data removed]",
            "text/plain": [
              "<Figure size 1008x504 with 1 Axes>"
            ]
          },
          "metadata": {
            "needs_background": "light"
          }
        }
      ]
    },
    {
      "cell_type": "markdown",
      "metadata": {
        "id": "Q6y23iUkNR4W"
      },
      "source": [
        "We can see many features have a score of 0.0, whereas this technique has identified many more features that may be relevant to the target. A bar chart of the feature importance scores for each input feature is created.\n",
        "\n",
        "Compared to the correlation feature selection method we can clearly see many more features scored as being relevant. This may be because of the statistical noise that we added to the dataset in its construction."
      ]
    },
    {
      "cell_type": "markdown",
      "metadata": {
        "id": "XShjCJQzOesm"
      },
      "source": [
        "## Regression model built using all features (baseline)\n",
        "\n",
        "There are many different techniques for scoring features and selecting features based on scores; how do you know which one to use? A robust approach is to evaluate models using different feature selection methods (and numbers of features) and select the method that results in a model with the best performance.\n",
        "\n",
        "In this section, we will evaluate a Linear Regression model with all features compared to a model built from features selected by mutual information statistics.\n",
        "\n",
        "Linear regression is a good model for testing feature selection methods as it can perform better if irrelevant features are removed from the model. As a first step, we will evaluate a LinearRegression model using all the available features. The model is fit on the training dataset and evaluated on the test dataset."
      ]
    },
    {
      "cell_type": "code",
      "metadata": {
        "colab": {
          "base_uri": "https://localhost:8080/"
        },
        "id": "o8NY-MueNHs5",
        "outputId": "a70c44ea-e1ce-476a-fd86-9961efe655d5"
      },
      "source": [
        "# fit the model\n",
        "model = LinearRegression()\n",
        "model.fit(X_train, y_train)"
      ],
      "execution_count": 9,
      "outputs": [
        {
          "output_type": "execute_result",
          "data": {
            "text/plain": [
              "LinearRegression(copy_X=True, fit_intercept=True, n_jobs=None, normalize=False)"
            ]
          },
          "metadata": {},
          "execution_count": 9
        }
      ]
    },
    {
      "cell_type": "code",
      "metadata": {
        "id": "KrOGZhN7Phww"
      },
      "source": [
        "# evaluate the model\n",
        "yhat = model.predict(X_test)"
      ],
      "execution_count": 10,
      "outputs": []
    },
    {
      "cell_type": "code",
      "metadata": {
        "colab": {
          "base_uri": "https://localhost:8080/"
        },
        "id": "YhukLmNRPj1X",
        "outputId": "05f63f9e-9c2d-4d03-d147-41a732df985b"
      },
      "source": [
        "# evaluate predictions\n",
        "mae = mean_absolute_error(y_test, yhat)\n",
        "print('MAE: %.3f' % mae)"
      ],
      "execution_count": 11,
      "outputs": [
        {
          "output_type": "stream",
          "name": "stdout",
          "text": [
            "MAE: 0.086\n"
          ]
        }
      ]
    },
    {
      "cell_type": "markdown",
      "metadata": {
        "id": "-Y1dJAjAPrnQ"
      },
      "source": [
        "In this case, we can see that the model achieves an error of about 0.086.\n",
        "\n",
        "We would prefer to use a subset of features that achieves an error that is as good or better than this."
      ]
    },
    {
      "cell_type": "markdown",
      "metadata": {
        "id": "J5vI4bdHPta4"
      },
      "source": [
        "## Regression model built with mutual information features\n",
        "\n",
        "We can use the mutual information method to score the features and select the 10 most relevant ones.\n",
        "\n",
        "The select_features() function below is updated to achieve this."
      ]
    },
    {
      "cell_type": "code",
      "metadata": {
        "id": "VkxXhszBPm9z"
      },
      "source": [
        "# feature selection\n",
        "def select_features(X_train, y_train, X_test):\n",
        "\t# configure to select a subset of features\n",
        "\tfs = SelectKBest(score_func=mutual_info_regression, k=10)\n",
        "\t# learn relationship from training data\n",
        "\tfs.fit(X_train, y_train)\n",
        "\t# transform train input data\n",
        "\tX_train_fs = fs.transform(X_train)\n",
        "\t# transform test input data\n",
        "\tX_test_fs = fs.transform(X_test)\n",
        "\treturn X_train_fs, X_test_fs, fs"
      ],
      "execution_count": 12,
      "outputs": []
    },
    {
      "cell_type": "code",
      "metadata": {
        "id": "giK8zFKeQR-O"
      },
      "source": [
        "# feature selection\n",
        "X_train_fs, X_test_fs, fs = select_features(X_train, y_train, X_test)"
      ],
      "execution_count": 13,
      "outputs": []
    },
    {
      "cell_type": "code",
      "metadata": {
        "colab": {
          "base_uri": "https://localhost:8080/"
        },
        "id": "5WqP96wOQapY",
        "outputId": "5451ab0e-8e04-494e-c551-bc4fbb6e7fdb"
      },
      "source": [
        "# fit the model\n",
        "model = LinearRegression()\n",
        "model.fit(X_train_fs, y_train)"
      ],
      "execution_count": 14,
      "outputs": [
        {
          "output_type": "execute_result",
          "data": {
            "text/plain": [
              "LinearRegression(copy_X=True, fit_intercept=True, n_jobs=None, normalize=False)"
            ]
          },
          "metadata": {},
          "execution_count": 14
        }
      ]
    },
    {
      "cell_type": "code",
      "metadata": {
        "id": "nBvrIdKtQb9m"
      },
      "source": [
        "# evaluate the model\n",
        "yhat = model.predict(X_test_fs)"
      ],
      "execution_count": 15,
      "outputs": []
    },
    {
      "cell_type": "code",
      "metadata": {
        "colab": {
          "base_uri": "https://localhost:8080/"
        },
        "id": "nzSZ5S1FQdLY",
        "outputId": "35168c65-148c-4a26-f4c6-2383996295a8"
      },
      "source": [
        "# evaluate predictions\n",
        "mae = mean_absolute_error(y_test, yhat)\n",
        "print('MAE: %.3f' % mae)"
      ],
      "execution_count": 16,
      "outputs": [
        {
          "output_type": "stream",
          "name": "stdout",
          "text": [
            "MAE: 68.210\n"
          ]
        }
      ]
    },
    {
      "cell_type": "markdown",
      "metadata": {
        "id": "jFlkVVzlQrYw"
      },
      "source": [
        "In this case, we see that the model achieved an error score of about 68.2, which is much larger than the baseline model that used all features and achieved an MAE of 0.086.\n",
        "\n",
        "This suggests that although the method has a strong idea of what features to select, building a model from these features alone does not result in a more skillful model. This could be because features that are important to the target are being left out, meaning that the method is being deceived about what is important.\n",
        "\n",
        "Let’s go the other way and try to use the method to remove some redundant features rather than all redundant features. We can do this by setting the number of selected features to a much larger value, in this case, 88, hoping it can find and discard 12 of the 90 redundant features."
      ]
    },
    {
      "cell_type": "code",
      "metadata": {
        "id": "Rd34l3C_QdtA"
      },
      "source": [
        "# feature selection\n",
        "def select_features(X_train, y_train, X_test):\n",
        "\t# configure to select a subset of features\n",
        "\tfs = SelectKBest(score_func=mutual_info_regression, k=88)\n",
        "\t# learn relationship from training data\n",
        "\tfs.fit(X_train, y_train)\n",
        "\t# transform train input data\n",
        "\tX_train_fs = fs.transform(X_train)\n",
        "\t# transform test input data\n",
        "\tX_test_fs = fs.transform(X_test)\n",
        "\treturn X_train_fs, X_test_fs, fs"
      ],
      "execution_count": 17,
      "outputs": []
    },
    {
      "cell_type": "code",
      "metadata": {
        "id": "mJbFYwxHRAcD"
      },
      "source": [
        "# feature selection\n",
        "X_train_fs, X_test_fs, fs = select_features(X_train, y_train, X_test)"
      ],
      "execution_count": 18,
      "outputs": []
    },
    {
      "cell_type": "code",
      "metadata": {
        "colab": {
          "base_uri": "https://localhost:8080/"
        },
        "id": "bENNkUuwRAvb",
        "outputId": "0af6d64b-b172-48fe-da75-f39b00dfa450"
      },
      "source": [
        "# fit the model\n",
        "model = LinearRegression()\n",
        "model.fit(X_train_fs, y_train)"
      ],
      "execution_count": 19,
      "outputs": [
        {
          "output_type": "execute_result",
          "data": {
            "text/plain": [
              "LinearRegression(copy_X=True, fit_intercept=True, n_jobs=None, normalize=False)"
            ]
          },
          "metadata": {},
          "execution_count": 19
        }
      ]
    },
    {
      "cell_type": "code",
      "metadata": {
        "id": "MReQoUbNRC0h"
      },
      "source": [
        "# evaluate the model\n",
        "yhat = model.predict(X_test_fs)"
      ],
      "execution_count": 20,
      "outputs": []
    },
    {
      "cell_type": "code",
      "metadata": {
        "colab": {
          "base_uri": "https://localhost:8080/"
        },
        "id": "ZnwKVofSREmz",
        "outputId": "ede73827-8c6a-43f1-9ced-6edb55e6d4b5"
      },
      "source": [
        "# evaluate predictions\n",
        "mae = mean_absolute_error(y_test, yhat)\n",
        "print('MAE: %.3f' % mae)"
      ],
      "execution_count": 21,
      "outputs": [
        {
          "output_type": "stream",
          "name": "stdout",
          "text": [
            "MAE: 0.084\n"
          ]
        }
      ]
    },
    {
      "cell_type": "markdown",
      "metadata": {
        "id": "h5Xi8q6cRKBF"
      },
      "source": [
        "In this case, we can see that removing some of the redundant features has resulted in a small lift in performance with an error of about 0.084 compared to the baseline that achieved an error of about 0.086."
      ]
    },
    {
      "cell_type": "markdown",
      "metadata": {
        "id": "7dTG59LRROoY"
      },
      "source": [
        "## Grid Search: Tune the Number of Selected Features\n",
        "\n",
        "In the previous example, we selected 88 features, but how do we know that is a good or best number of features to select? Instead of guessing, we can systematically test a range of different numbers of selected features and discover which results in the best performing model. This is called a grid search, where the k argument to the SelectKBest class can be tuned.\n",
        "\n",
        "It is a good practice to evaluate model configurations on regression tasks using repeated stratified k-fold cross-validation. We will use three repeats of 10-fold cross-validation via the RepeatedKFold class.\n",
        "\n",
        "We can define a Pipeline that correctly prepares the feature selection transform on the training set and applies it to the train set and test set for each fold of the cross-validation."
      ]
    },
    {
      "cell_type": "code",
      "metadata": {
        "id": "vP6NhQy0RGR9"
      },
      "source": [
        "# define dataset\n",
        "X, y = make_regression(n_samples=1000, n_features=100, n_informative=10, noise=0.1, random_state=1)"
      ],
      "execution_count": 22,
      "outputs": []
    },
    {
      "cell_type": "code",
      "metadata": {
        "id": "bt_V-l7LTSoc"
      },
      "source": [
        "# define the evaluation method\n",
        "cv = RepeatedKFold(n_splits=10, n_repeats=3, random_state=1)"
      ],
      "execution_count": 23,
      "outputs": []
    },
    {
      "cell_type": "code",
      "metadata": {
        "id": "qE-XTIeNTUV7"
      },
      "source": [
        "# define the pipeline to evaluate\n",
        "model = LinearRegression()\n",
        "fs = SelectKBest(score_func=mutual_info_regression)\n",
        "pipeline = Pipeline(steps=[('sel',fs), ('lr', model)])"
      ],
      "execution_count": 24,
      "outputs": []
    },
    {
      "cell_type": "markdown",
      "metadata": {
        "id": "DB7ES8vDT1C7"
      },
      "source": [
        "We can then define the grid of values to evaluate as 80 to 100.\n",
        "\n",
        "Note that the grid is a dictionary mapping of parameter-to-values to search, and given that we are using a Pipeline, we can access the SelectKBest object via the name we gave it ‘sel‘ and then the parameter name ‘k‘ separated by two underscores, or ‘sel__k‘."
      ]
    },
    {
      "cell_type": "code",
      "metadata": {
        "id": "pNEfvfH7Tcql"
      },
      "source": [
        "# define the grid\n",
        "grid = dict()\n",
        "grid['sel__k'] = [i for i in range(X.shape[1]-20, X.shape[1]+1)]"
      ],
      "execution_count": 25,
      "outputs": []
    },
    {
      "cell_type": "markdown",
      "metadata": {
        "id": "zhIBVVPRUCbZ"
      },
      "source": [
        "We can then define and run the search.\n",
        "\n",
        "In this case, we will evaluate models using the negative mean absolute error (neg_mean_absolute_error). It is negative because the scikit-learn requires the score to be maximized, so the MAE is made negative, meaning scores scale from -infinity to 0 (best)"
      ]
    },
    {
      "cell_type": "code",
      "metadata": {
        "id": "NmdCmsu2TlJW"
      },
      "source": [
        "# define the grid search\n",
        "search = GridSearchCV(pipeline, grid, scoring='neg_mean_squared_error', n_jobs=-1, cv=cv)"
      ],
      "execution_count": 26,
      "outputs": []
    },
    {
      "cell_type": "code",
      "metadata": {
        "id": "PXOP3MtkT-KZ"
      },
      "source": [
        "# perform the search\n",
        "results = search.fit(X, y)"
      ],
      "execution_count": 27,
      "outputs": []
    },
    {
      "cell_type": "code",
      "metadata": {
        "id": "IXjmxrtyUG8S",
        "colab": {
          "base_uri": "https://localhost:8080/"
        },
        "outputId": "72a82cf3-d2bd-46e4-e119-98b218ffe7c0"
      },
      "source": [
        "# summarize best\n",
        "print('Best MAE: %.3f' % results.best_score_)\n",
        "print('Best Config: %s' % results.best_params_)"
      ],
      "execution_count": 28,
      "outputs": [
        {
          "output_type": "stream",
          "name": "stdout",
          "text": [
            "Best MAE: -0.010\n",
            "Best Config: {'sel__k': 81}\n"
          ]
        }
      ]
    },
    {
      "cell_type": "code",
      "metadata": {
        "id": "2mPAbPq1UI1q",
        "colab": {
          "base_uri": "https://localhost:8080/"
        },
        "outputId": "b4bb6b74-bc58-467d-d52f-c39ecf740572"
      },
      "source": [
        "# summarize all\n",
        "means = results.cv_results_['mean_test_score']\n",
        "params = results.cv_results_['params']\n",
        "for mean, param in zip(means, params):\n",
        "    print(\">%.3f with: %r\" % (mean, param))"
      ],
      "execution_count": 29,
      "outputs": [
        {
          "output_type": "stream",
          "name": "stdout",
          "text": [
            ">-50.101 with: {'sel__k': 80}\n",
            ">-0.010 with: {'sel__k': 81}\n",
            ">-0.010 with: {'sel__k': 82}\n",
            ">-0.010 with: {'sel__k': 83}\n",
            ">-0.010 with: {'sel__k': 84}\n",
            ">-0.010 with: {'sel__k': 85}\n",
            ">-0.010 with: {'sel__k': 86}\n",
            ">-0.010 with: {'sel__k': 87}\n",
            ">-0.010 with: {'sel__k': 88}\n",
            ">-0.010 with: {'sel__k': 89}\n",
            ">-0.010 with: {'sel__k': 90}\n",
            ">-0.011 with: {'sel__k': 91}\n",
            ">-0.011 with: {'sel__k': 92}\n",
            ">-0.011 with: {'sel__k': 93}\n",
            ">-0.011 with: {'sel__k': 94}\n",
            ">-0.011 with: {'sel__k': 95}\n",
            ">-0.011 with: {'sel__k': 96}\n",
            ">-0.011 with: {'sel__k': 97}\n",
            ">-0.011 with: {'sel__k': 98}\n",
            ">-0.011 with: {'sel__k': 99}\n",
            ">-0.011 with: {'sel__k': 100}\n"
          ]
        }
      ]
    },
    {
      "cell_type": "markdown",
      "metadata": {
        "id": "JXcCoAs6VAue"
      },
      "source": [
        "Running the example grid searches different numbers of selected features using mutual information statistics, where each modeling pipeline is evaluated using repeated cross-validation.\n",
        "\n",
        "In this case, we can see that the best number of selected features is 81, which achieves a MAE of about 0.082 (ignoring the sign)."
      ]
    },
    {
      "cell_type": "markdown",
      "metadata": {
        "id": "6ynU6JOcVu9h"
      },
      "source": [
        "We might want to see the relationship between the number of selected features and MAE. In this relationship, we may expect that more features result in better performance, to a point.\n",
        "\n",
        "This relationship can be explored by manually evaluating each configuration of k for the SelectKBest from 81 to 100, gathering the sample of MAE scores, and plotting the results using box and whisker plots side by side. The spread and mean of these box plots would be expected to show any interesting relationship between the number of selected features and the MAE of the pipeline.\n",
        "\n",
        "Note that we started the spread of k values at 81 instead of 80 because the distribution of MAE scores for k=80 is dramatically larger than all other values of k considered and it washed out the plot of the results on the graph."
      ]
    },
    {
      "cell_type": "code",
      "metadata": {
        "id": "GsFM_LRGUMrr"
      },
      "source": [
        "# define dataset\n",
        "X, y = make_regression(n_samples=1000, n_features=100, n_informative=10, noise=0.1, random_state=1)"
      ],
      "execution_count": 30,
      "outputs": []
    },
    {
      "cell_type": "code",
      "metadata": {
        "id": "AkRgDEkMV1GU"
      },
      "source": [
        "# define number of features to evaluate\n",
        "num_features = [i for i in range(X.shape[1]-19, X.shape[1]+1)]"
      ],
      "execution_count": 31,
      "outputs": []
    },
    {
      "cell_type": "code",
      "metadata": {
        "id": "NZ91jkU3V3ZO",
        "colab": {
          "base_uri": "https://localhost:8080/"
        },
        "outputId": "a6822cfc-2b1e-42e5-bcce-aa428212f4db"
      },
      "source": [
        "# enumerate each number of features\n",
        "results = list()\n",
        "for k in num_features:\n",
        "\t# create pipeline\n",
        "\tmodel = LinearRegression()\n",
        "\tfs = SelectKBest(score_func=mutual_info_regression, k=k)\n",
        "\tpipeline = Pipeline(steps=[('sel',fs), ('lr', model)])\n",
        "\t# evaluate the model\n",
        "\tcv = RepeatedKFold(n_splits=10, n_repeats=3, random_state=1)\n",
        "\tscores = cross_val_score(pipeline, X, y, scoring='neg_mean_absolute_error', cv=cv, n_jobs=-1)\n",
        "\tresults.append(scores)\n",
        "\t# summarize the results\n",
        "\tprint('>%d %.3f (%.3f)' % (k, np.mean(scores), np.std(scores)))"
      ],
      "execution_count": 32,
      "outputs": [
        {
          "output_type": "stream",
          "name": "stdout",
          "text": [
            ">81 -0.082 (0.006)\n",
            ">82 -0.082 (0.006)\n",
            ">83 -0.082 (0.006)\n",
            ">84 -0.082 (0.006)\n",
            ">85 -0.082 (0.006)\n",
            ">86 -0.082 (0.006)\n",
            ">87 -0.082 (0.006)\n",
            ">88 -0.082 (0.006)\n",
            ">89 -0.083 (0.006)\n",
            ">90 -0.083 (0.006)\n",
            ">91 -0.083 (0.006)\n",
            ">92 -0.083 (0.006)\n",
            ">93 -0.083 (0.006)\n",
            ">94 -0.083 (0.006)\n",
            ">95 -0.083 (0.006)\n",
            ">96 -0.083 (0.006)\n",
            ">97 -0.083 (0.006)\n",
            ">98 -0.083 (0.006)\n",
            ">99 -0.083 (0.006)\n",
            ">100 -0.083 (0.006)\n"
          ]
        }
      ]
    },
    {
      "cell_type": "code",
      "metadata": {
        "id": "TgUulUTmV5bU",
        "colab": {
          "base_uri": "https://localhost:8080/",
          "height": 428
        },
        "outputId": "491b713c-fc64-436e-8181-f061d4724afb"
      },
      "source": [
        "# plot model performance for comparison\n",
        "plt.figure(figsize=(14,7))\n",
        "plt.boxplot(results, labels=num_features, showmeans=True)\n",
        "plt.show()"
      ],
      "execution_count": 33,
      "outputs": [
        {
          "output_type": "display_data",
          "data": {
            "image/png": "[encoded data removed]",
            "text/plain": [
              "<Figure size 1008x504 with 1 Axes>"
            ]
          },
          "metadata": {
            "needs_background": "light"
          }
        }
      ]
    },
    {
      "cell_type": "markdown",
      "metadata": {
        "id": "vffo9QzCXCJt"
      },
      "source": [
        "Box and whisker plots are created side by side showing the trend of k vs. MAE where the green triangle represents the mean and orange line represents the median of the distribution."
      ]
    },
    {
      "cell_type": "code",
      "metadata": {
        "id": "laDVdbgjWMLg"
      },
      "source": [
        ""
      ],
      "execution_count": 33,
      "outputs": []
    }
  ]
}
