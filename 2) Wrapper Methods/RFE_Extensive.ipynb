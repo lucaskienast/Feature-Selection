{
  "nbformat": 4,
  "nbformat_minor": 0,
  "metadata": {
    "colab": {
      "name": "RFE Extensive.ipynb",
      "provenance": [],
      "collapsed_sections": []
    },
    "kernelspec": {
      "name": "python3",
      "display_name": "Python 3"
    },
    "language_info": {
      "name": "python"
    }
  },
  "cells": [
    {
      "cell_type": "markdown",
      "metadata": {
        "id": "nfT6mznTHs1m"
      },
      "source": [
        "# RFE: Recursive Feature Elimination \n",
        "\n",
        "## Wrapper Methods for Feature Selection \n",
        "\n",
        "RFE is popular for feature selection because it is easy to configure and use and because it is effective at selecting those features (columns) in a training dataset that are more or most relevant in predicting the target variable.\n",
        "\n",
        "There are two important configuration options when using RFE: the choice in the number of features to select and the choice of the algorithm used to help choose features. Both of these hyperparameters can be explored, although the performance of the method is not strongly dependent on these hyperparameters being configured well."
      ]
    },
    {
      "cell_type": "markdown",
      "metadata": {
        "id": "fkGCwmhDKWnb"
      },
      "source": [
        "## Theory\n",
        "\n",
        "A machine learning dataset for classification or regression is comprised of rows and columns, like an excel spreadsheet. Rows are often referred to as samples and columns are referred to as features, e.g. features of an observation in a problem domain.\n",
        "\n",
        "Feature selection refers to techniques that select a subset of the most relevant features (columns) for a dataset. Fewer features can allow machine learning algorithms to run more efficiently (less space or time complexity) and be more effective. Some machine learning algorithms can be misled by irrelevant input features, resulting in worse predictive performance.\n",
        "\n",
        "RFE is a wrapper-type feature selection algorithm. This means that a different machine learning algorithm is given and used in the core of the method, is wrapped by RFE, and used to help select features. This is in contrast to filter-based feature selections that score each feature and select those features with the largest (or smallest) score. Technically, RFE is a wrapper-style feature selection algorithm that also uses filter-based feature selection internally. \n",
        "\n",
        "RFE works by searching for a subset of features by starting with all features in the training dataset and successfully removing features until the desired number remains. This is achieved by fitting the given machine learning algorithm used in the core of the model, ranking features by importance, discarding the least important features, and re-fitting the model. This process is repeated until a specified number of features remains. Features are scored either using the provided machine learning model (e.g. some algorithms like decision trees offer importance scores) or by using a statistical method."
      ]
    },
    {
      "cell_type": "markdown",
      "metadata": {
        "id": "LgSdQgs2Lr3d"
      },
      "source": [
        "## Application\n",
        "\n",
        "The scikit-learn Python machine learning library provides an implementation of RFE for machine learning. RFE is a transform. To use it, first the class is configured with the chosen algorithm specified via the “estimator” argument and the number of features to select via the “n_features_to_select” argument.\n",
        "\n",
        "The algorithm must provide a way to calculate important scores, such as a decision tree. The algorithm used in RFE does not have to be the algorithm that is fit on the selected features; different algorithms can be used. Once configured, the class must be fit on a training dataset to select the features by calling the fit() function. After the class is fit, the choice of input variables can be seen via the “support_” attribute that provides a True or False for each input variable. It can then be applied to the training and test datasets by calling the transform() function.\n",
        "\n",
        "It is common to use k-fold cross-validation to evaluate a machine learning algorithm on a dataset. When using cross-validation, it is good practice to perform data transforms like RFE as part of a Pipeline to avoid data leakage."
      ]
    },
    {
      "cell_type": "markdown",
      "metadata": {
        "id": "6B8XrQx6MSPJ"
      },
      "source": [
        "## Import libraries"
      ]
    },
    {
      "cell_type": "code",
      "metadata": {
        "id": "mpDaACwgC-K3"
      },
      "source": [
        "import numpy as np\n",
        "import matplotlib.pyplot as plt\n",
        "from sklearn.datasets import make_classification\n",
        "from sklearn.datasets import make_regression\n",
        "from sklearn.model_selection import cross_val_score\n",
        "from sklearn.model_selection import RepeatedStratifiedKFold\n",
        "from sklearn.model_selection import RepeatedKFold\n",
        "from sklearn.feature_selection import RFE\n",
        "from sklearn.feature_selection import RFECV\n",
        "from sklearn.tree import DecisionTreeClassifier\n",
        "from sklearn.tree import DecisionTreeRegressor\n",
        "from sklearn.linear_model import LogisticRegression\n",
        "from sklearn.linear_model import Perceptron\n",
        "from sklearn.ensemble import RandomForestClassifier\n",
        "from sklearn.ensemble import GradientBoostingClassifier\n",
        "from sklearn.pipeline import Pipeline"
      ],
      "execution_count": 1,
      "outputs": []
    },
    {
      "cell_type": "markdown",
      "metadata": {
        "id": "1BRMgzoJMlKN"
      },
      "source": [
        "## RFE for Classification\n",
        "\n",
        "First, we can use the make_classification() function to create a synthetic binary classification problem with 1,000 examples and 10 input features, five of which are important and five of which are redundant.\n",
        "\n",
        "Next, we can evaluate an RFE feature selection algorithm on this dataset. We will use a DecisionTreeClassifier to choose features and set the number of features to five. We will then fit a new DecisionTreeClassifier model on the selected features.\n",
        "\n",
        "We will evaluate the model using repeated stratified k-fold cross-validation, with three repeats and 10 folds. We will report the mean and standard deviation of the accuracy of the model across all repeats and folds."
      ]
    },
    {
      "cell_type": "code",
      "metadata": {
        "colab": {
          "base_uri": "https://localhost:8080/"
        },
        "id": "sckCrB5-Mfqi",
        "outputId": "155ec251-e088-4b98-a4e0-dd752f576aa9"
      },
      "source": [
        "# define dataset\n",
        "X, y = make_classification(n_samples=1000, n_features=10, n_informative=5, n_redundant=5, random_state=1)\n",
        "print(X.shape, y.shape)"
      ],
      "execution_count": 2,
      "outputs": [
        {
          "output_type": "stream",
          "name": "stdout",
          "text": [
            "(1000, 10) (1000,)\n"
          ]
        }
      ]
    },
    {
      "cell_type": "code",
      "metadata": {
        "id": "CUsZ4VhSM8J5"
      },
      "source": [
        "# create pipeline\n",
        "rfe = RFE(estimator=DecisionTreeClassifier(), n_features_to_select=5)\n",
        "model = DecisionTreeClassifier()\n",
        "pipeline = Pipeline(steps=[('s',rfe),('m',model)])"
      ],
      "execution_count": 3,
      "outputs": []
    },
    {
      "cell_type": "code",
      "metadata": {
        "id": "px8Syde-M-Ip"
      },
      "source": [
        "# evaluate model\n",
        "cv = RepeatedStratifiedKFold(n_splits=10, n_repeats=3, random_state=1)\n",
        "n_scores = cross_val_score(pipeline, X, y, scoring='accuracy', cv=cv, n_jobs=-1, error_score='raise')"
      ],
      "execution_count": 4,
      "outputs": []
    },
    {
      "cell_type": "code",
      "metadata": {
        "colab": {
          "base_uri": "https://localhost:8080/"
        },
        "id": "l3JwK2HiNB45",
        "outputId": "d9f56589-1195-4ade-9157-b575e2f997ed"
      },
      "source": [
        "# report performance\n",
        "print('Accuracy: %.3f (%.3f)' % (np.mean(n_scores), np.std(n_scores)))"
      ],
      "execution_count": 5,
      "outputs": [
        {
          "output_type": "stream",
          "name": "stdout",
          "text": [
            "Accuracy: 0.887 (0.026)\n"
          ]
        }
      ]
    },
    {
      "cell_type": "markdown",
      "metadata": {
        "id": "b1rlOF_qNNrU"
      },
      "source": [
        "We can also use the RFE model pipeline as a final model and make predictions for classification.\n",
        "\n",
        "First, the RFE and model are fit on all available data, then the predict() function can be called to make predictions on new data."
      ]
    },
    {
      "cell_type": "code",
      "metadata": {
        "colab": {
          "base_uri": "https://localhost:8080/"
        },
        "id": "ZSrevwtsNF-p",
        "outputId": "b85d504a-b219-4ea2-ace7-f3064098a594"
      },
      "source": [
        "# fit the model on all available data\n",
        "pipeline.fit(X, y)"
      ],
      "execution_count": 6,
      "outputs": [
        {
          "output_type": "execute_result",
          "data": {
            "text/plain": [
              "Pipeline(memory=None,\n",
              "         steps=[('s',\n",
              "                 RFE(estimator=DecisionTreeClassifier(ccp_alpha=0.0,\n",
              "                                                      class_weight=None,\n",
              "                                                      criterion='gini',\n",
              "                                                      max_depth=None,\n",
              "                                                      max_features=None,\n",
              "                                                      max_leaf_nodes=None,\n",
              "                                                      min_impurity_decrease=0.0,\n",
              "                                                      min_impurity_split=None,\n",
              "                                                      min_samples_leaf=1,\n",
              "                                                      min_samples_split=2,\n",
              "                                                      min_weight_fraction_leaf=0.0,\n",
              "                                                      presort='deprecated',\n",
              "                                                      random_state=None,\n",
              "                                                      splitter='best'),\n",
              "                     n_fe...o_select=5, step=1, verbose=0)),\n",
              "                ('m',\n",
              "                 DecisionTreeClassifier(ccp_alpha=0.0, class_weight=None,\n",
              "                                        criterion='gini', max_depth=None,\n",
              "                                        max_features=None, max_leaf_nodes=None,\n",
              "                                        min_impurity_decrease=0.0,\n",
              "                                        min_impurity_split=None,\n",
              "                                        min_samples_leaf=1, min_samples_split=2,\n",
              "                                        min_weight_fraction_leaf=0.0,\n",
              "                                        presort='deprecated', random_state=None,\n",
              "                                        splitter='best'))],\n",
              "         verbose=False)"
            ]
          },
          "metadata": {},
          "execution_count": 6
        }
      ]
    },
    {
      "cell_type": "code",
      "metadata": {
        "colab": {
          "base_uri": "https://localhost:8080/"
        },
        "id": "YxhTsFL5NVcL",
        "outputId": "ad9b78e2-fc26-4ab9-ac7e-a4e1cb26395f"
      },
      "source": [
        "# make a prediction for one example\n",
        "data = [[2.56999479,-0.13019997,3.16075093,-4.35936352,-1.61271951,-1.39352057,-2.48924933,-1.93094078,3.26130366,2.05692145]]\n",
        "yhat = pipeline.predict(data)\n",
        "print('Predicted Class: %d' % (yhat))"
      ],
      "execution_count": 7,
      "outputs": [
        {
          "output_type": "stream",
          "name": "stdout",
          "text": [
            "Predicted Class: 1\n"
          ]
        }
      ]
    },
    {
      "cell_type": "markdown",
      "metadata": {
        "id": "fJ2pkdXxOBU0"
      },
      "source": [
        "Running the example fits the RFE pipeline on the entire dataset and is then used to make a prediction on a new row of data, as we might when using the model in an application."
      ]
    },
    {
      "cell_type": "markdown",
      "metadata": {
        "id": "9jgwqWbCOFvH"
      },
      "source": [
        "## RFE for Regression\n",
        "\n",
        "First, we can use the make_regression() function to create a synthetic regression problem with 1,000 examples and 10 input features, five of which are important and five of which are redundant.\n",
        "\n",
        "Next, we can evaluate an RFE algorithm on this dataset. As we did with the last section, we will evaluate the pipeline with a decision tree using repeated k-fold cross-validation, with three repeats and 10 folds.\n",
        "\n",
        "We will report the mean absolute error (MAE) of the model across all repeats and folds. The scikit-learn library makes the MAE negative so that it is maximized instead of minimized. This means that larger negative MAE are better and a perfect model has a MAE of 0."
      ]
    },
    {
      "cell_type": "code",
      "metadata": {
        "colab": {
          "base_uri": "https://localhost:8080/"
        },
        "id": "l3OH-WDyOFlA",
        "outputId": "b884c408-d7a4-4981-cfa3-cf25ca4321a8"
      },
      "source": [
        "# define dataset\n",
        "X, y = make_regression(n_samples=1000, n_features=10, n_informative=5, random_state=1)\n",
        "print(X.shape, y.shape)"
      ],
      "execution_count": 8,
      "outputs": [
        {
          "output_type": "stream",
          "name": "stdout",
          "text": [
            "(1000, 10) (1000,)\n"
          ]
        }
      ]
    },
    {
      "cell_type": "code",
      "metadata": {
        "id": "-mkX-5poNYcU"
      },
      "source": [
        "# create pipeline\n",
        "rfe = RFE(estimator=DecisionTreeRegressor(), n_features_to_select=5)\n",
        "model = DecisionTreeRegressor()\n",
        "pipeline = Pipeline(steps=[('s',rfe),('m',model)])"
      ],
      "execution_count": 9,
      "outputs": []
    },
    {
      "cell_type": "code",
      "metadata": {
        "id": "lgc2-tnBOzFG"
      },
      "source": [
        "# evaluate model\n",
        "cv = RepeatedKFold(n_splits=10, n_repeats=3, random_state=1)\n",
        "n_scores = cross_val_score(pipeline, X, y, scoring='neg_mean_absolute_error', cv=cv, n_jobs=-1, error_score='raise')"
      ],
      "execution_count": 10,
      "outputs": []
    },
    {
      "cell_type": "code",
      "metadata": {
        "colab": {
          "base_uri": "https://localhost:8080/"
        },
        "id": "X1gDD61lO1Tk",
        "outputId": "9a06d221-85bf-4cee-a540-370426229646"
      },
      "source": [
        "# report performance\n",
        "print('MAE: %.3f (%.3f)' % (np.mean(n_scores), np.std(n_scores)))"
      ],
      "execution_count": 11,
      "outputs": [
        {
          "output_type": "stream",
          "name": "stdout",
          "text": [
            "MAE: -27.090 (2.600)\n"
          ]
        }
      ]
    },
    {
      "cell_type": "markdown",
      "metadata": {
        "id": "A1x0BjAFP4MP"
      },
      "source": [
        "We can also use the RFE model pipeline as a final model and make predictions for regression.\n",
        "\n",
        "First, the Pipeline is fit on all available data, then the predict() function can be called to make predictions on new data."
      ]
    },
    {
      "cell_type": "code",
      "metadata": {
        "colab": {
          "base_uri": "https://localhost:8080/"
        },
        "id": "Lp08vZxpP8Kw",
        "outputId": "9a16429f-a93c-4af3-e233-336cb653ccaf"
      },
      "source": [
        "# fit the model on all available data\n",
        "pipeline.fit(X, y)"
      ],
      "execution_count": 12,
      "outputs": [
        {
          "output_type": "execute_result",
          "data": {
            "text/plain": [
              "Pipeline(memory=None,\n",
              "         steps=[('s',\n",
              "                 RFE(estimator=DecisionTreeRegressor(ccp_alpha=0.0,\n",
              "                                                     criterion='mse',\n",
              "                                                     max_depth=None,\n",
              "                                                     max_features=None,\n",
              "                                                     max_leaf_nodes=None,\n",
              "                                                     min_impurity_decrease=0.0,\n",
              "                                                     min_impurity_split=None,\n",
              "                                                     min_samples_leaf=1,\n",
              "                                                     min_samples_split=2,\n",
              "                                                     min_weight_fraction_leaf=0.0,\n",
              "                                                     presort='deprecated',\n",
              "                                                     random_state=None,\n",
              "                                                     splitter='best'),\n",
              "                     n_features_to_select=5, step=1, verbose=0)),\n",
              "                ('m',\n",
              "                 DecisionTreeRegressor(ccp_alpha=0.0, criterion='mse',\n",
              "                                       max_depth=None, max_features=None,\n",
              "                                       max_leaf_nodes=None,\n",
              "                                       min_impurity_decrease=0.0,\n",
              "                                       min_impurity_split=None,\n",
              "                                       min_samples_leaf=1, min_samples_split=2,\n",
              "                                       min_weight_fraction_leaf=0.0,\n",
              "                                       presort='deprecated', random_state=None,\n",
              "                                       splitter='best'))],\n",
              "         verbose=False)"
            ]
          },
          "metadata": {},
          "execution_count": 12
        }
      ]
    },
    {
      "cell_type": "code",
      "metadata": {
        "colab": {
          "base_uri": "https://localhost:8080/"
        },
        "id": "urfZdB-8QAsy",
        "outputId": "22eba7c6-9fd3-4856-aa47-6caa23d0e45c"
      },
      "source": [
        "# make a prediction for one example\n",
        "data = [[-2.02220122,0.31563495,0.82797464,-0.30620401,0.16003707,-1.44411381,0.87616892,-0.50446586,0.23009474,0.76201118]]\n",
        "yhat = pipeline.predict(data)\n",
        "print('Predicted: %.3f' % (yhat))"
      ],
      "execution_count": 13,
      "outputs": [
        {
          "output_type": "stream",
          "name": "stdout",
          "text": [
            "Predicted: -84.288\n"
          ]
        }
      ]
    },
    {
      "cell_type": "markdown",
      "metadata": {
        "id": "YMzzQbUTQHKD"
      },
      "source": [
        "Running the example fits the RFE pipeline on the entire dataset and is then used to make a prediction on a new row of data, as we might when using the model in an application."
      ]
    },
    {
      "cell_type": "markdown",
      "metadata": {
        "id": "SM5PVWLwQJ7I"
      },
      "source": [
        "## RFE Hyperparameters\n",
        "\n",
        "In this section, we will take a closer look at some of the hyperparameters you should consider tuning for the RFE method for feature selection and their effect on model performance."
      ]
    },
    {
      "cell_type": "markdown",
      "metadata": {
        "id": "ip65zg02QP5x"
      },
      "source": [
        "### Explore number of features\n",
        "\n",
        "An important hyperparameter for the RFE algorithm is the number of features to select.\n",
        "\n",
        "In the previous section, we used an arbitrary number of selected features, five, which matches the number of informative features in the synthetic dataset. In practice, we cannot know the best number of features to select with RFE; instead, it is good practice to test different values.\n",
        "\n",
        "The example below demonstrates selecting different numbers of features from 2 to 10 on the synthetic binary classification dataset."
      ]
    },
    {
      "cell_type": "code",
      "metadata": {
        "id": "jHybvNXDQBLj"
      },
      "source": [
        "# get the dataset\n",
        "def get_dataset():\n",
        "\tX, y = make_classification(n_samples=1000, n_features=10, n_informative=5, n_redundant=5, random_state=1)\n",
        "\treturn X, y"
      ],
      "execution_count": 14,
      "outputs": []
    },
    {
      "cell_type": "code",
      "metadata": {
        "id": "vbyxcgKFTLzZ"
      },
      "source": [
        "# get a list of models to evaluate\n",
        "def get_models():\n",
        "\tmodels = dict()\n",
        "\tfor i in range(2, 10):\n",
        "\t\trfe = RFE(estimator=DecisionTreeClassifier(), n_features_to_select=i)\n",
        "\t\tmodel = DecisionTreeClassifier()\n",
        "\t\tmodels[str(i)] = Pipeline(steps=[('s',rfe),('m',model)])\n",
        "\treturn models"
      ],
      "execution_count": 15,
      "outputs": []
    },
    {
      "cell_type": "code",
      "metadata": {
        "id": "KBXaR_BuTN_J"
      },
      "source": [
        "# evaluate a give model using cross-validation\n",
        "def evaluate_model(model, X, y):\n",
        "\tcv = RepeatedStratifiedKFold(n_splits=10, n_repeats=3, random_state=1)\n",
        "\tscores = cross_val_score(model, X, y, scoring='accuracy', cv=cv, n_jobs=-1, error_score='raise')\n",
        "\treturn scores"
      ],
      "execution_count": 16,
      "outputs": []
    },
    {
      "cell_type": "code",
      "metadata": {
        "id": "xKfANTb4TQnh"
      },
      "source": [
        "# define dataset\n",
        "X, y = get_dataset()"
      ],
      "execution_count": 17,
      "outputs": []
    },
    {
      "cell_type": "code",
      "metadata": {
        "id": "2joddqv6TSjJ"
      },
      "source": [
        "# get the models to evaluate\n",
        "models = get_models()"
      ],
      "execution_count": 18,
      "outputs": []
    },
    {
      "cell_type": "code",
      "metadata": {
        "colab": {
          "base_uri": "https://localhost:8080/"
        },
        "id": "tWTol5jrTUjP",
        "outputId": "df02b500-501c-491b-bb3e-896a80cdca31"
      },
      "source": [
        "# evaluate the models and store results\n",
        "results, names = list(), list()\n",
        "for name, model in models.items():\n",
        "\tscores = evaluate_model(model, X, y)\n",
        "\tresults.append(scores)\n",
        "\tnames.append(name)\n",
        "\tprint('>%s %.3f (%.3f)' % (name, np.mean(scores), np.std(scores)))"
      ],
      "execution_count": 19,
      "outputs": [
        {
          "output_type": "stream",
          "name": "stdout",
          "text": [
            ">2 0.720 (0.038)\n",
            ">3 0.815 (0.040)\n",
            ">4 0.873 (0.033)\n",
            ">5 0.889 (0.029)\n",
            ">6 0.885 (0.031)\n",
            ">7 0.887 (0.027)\n",
            ">8 0.887 (0.027)\n",
            ">9 0.885 (0.027)\n"
          ]
        }
      ]
    },
    {
      "cell_type": "code",
      "metadata": {
        "colab": {
          "base_uri": "https://localhost:8080/",
          "height": 428
        },
        "id": "BLnru5eETYy_",
        "outputId": "73556c1c-f0a2-4484-a9ba-8160310d55f5"
      },
      "source": [
        "# plot model performance for comparison\n",
        "plt.figure(figsize=(14,7))\n",
        "plt.boxplot(results, labels=names, showmeans=True)\n",
        "plt.show()"
      ],
      "execution_count": 20,
      "outputs": [
        {
          "output_type": "display_data",
          "data": {
            "image/png": "[encoded data removed]",
            "text/plain": [
              "<Figure size 1008x504 with 1 Axes>"
            ]
          },
          "metadata": {
            "needs_background": "light"
          }
        }
      ]
    },
    {
      "cell_type": "markdown",
      "metadata": {
        "id": "W8TCbeq_TjbK"
      },
      "source": [
        "Running the example first reports the mean accuracy for each configured number of input features.\n",
        "\n",
        "In this case, we can see that performance improves as the number of features increase and perhaps peaks around 4-to-7 as we might expect, given that only five features are relevant to the target variable.\n",
        "\n",
        "A box and whisker plot is created for the distribution of accuracy scores for each configured number of features."
      ]
    },
    {
      "cell_type": "markdown",
      "metadata": {
        "id": "eWmpM6mQTrMz"
      },
      "source": [
        "### Automatically select the number of features\n",
        "\n",
        "It is also possible to automatically select the number of features chosen by RFE.\n",
        "\n",
        "This can be achieved by performing cross-validation evaluation of different numbers of features as we did in the previous section and automatically selecting the number of features that resulted in the best mean score.\n",
        "\n",
        "The RFECV class implements this for us.\n",
        "\n",
        "The RFECV is configured just like the RFE class regarding the choice of the algorithm that is wrapped. Additionally, the minimum number of features to be considered can be specified via the “min_features_to_select” argument (defaults to 1) and we can also specify the type of cross-validation and scoring to use via the “cv” (defaults to 5) and “scoring” arguments (uses accuracy for classification).\n",
        "\n",
        "We can demonstrate this on our synthetic binary classification problem and use RFECV in our pipeline instead of RFE to automatically choose the number of selected features."
      ]
    },
    {
      "cell_type": "code",
      "metadata": {
        "id": "9-jhf2WiTg_i"
      },
      "source": [
        "# define dataset\n",
        "X, y = make_classification(n_samples=1000, n_features=10, n_informative=5, n_redundant=5, random_state=1)"
      ],
      "execution_count": 21,
      "outputs": []
    },
    {
      "cell_type": "code",
      "metadata": {
        "id": "-Nbj3_O_UBRO"
      },
      "source": [
        "# create pipeline\n",
        "rfe = RFECV(estimator=DecisionTreeClassifier())\n",
        "model = DecisionTreeClassifier()\n",
        "pipeline = Pipeline(steps=[('s',rfe),('m',model)])"
      ],
      "execution_count": 22,
      "outputs": []
    },
    {
      "cell_type": "code",
      "metadata": {
        "id": "eDQBR8DxUDdY"
      },
      "source": [
        "# evaluate model\n",
        "cv = RepeatedStratifiedKFold(n_splits=10, n_repeats=3, random_state=1)\n",
        "n_scores = cross_val_score(pipeline, X, y, scoring='accuracy', cv=cv, n_jobs=-1, error_score='raise')"
      ],
      "execution_count": 23,
      "outputs": []
    },
    {
      "cell_type": "code",
      "metadata": {
        "colab": {
          "base_uri": "https://localhost:8080/"
        },
        "id": "AWVkeGbDULdX",
        "outputId": "590df871-0fe0-4dbf-d42e-c8b0da996013"
      },
      "source": [
        "# report performance\n",
        "print('Accuracy: %.3f (%.3f)' % (np.mean(n_scores), np.std(n_scores)))"
      ],
      "execution_count": 24,
      "outputs": [
        {
          "output_type": "stream",
          "name": "stdout",
          "text": [
            "Accuracy: 0.889 (0.029)\n"
          ]
        }
      ]
    },
    {
      "cell_type": "markdown",
      "metadata": {
        "id": "3_aPUX0_UQ6V"
      },
      "source": [
        "Running the example reports the mean and standard deviation accuracy of the model.\n",
        "\n",
        "In this case, we can see the RFE that uses a decision tree and automatically selects a number of features and then fits a decision tree on the selected features achieves a classification accuracy of about 88.2 percent."
      ]
    },
    {
      "cell_type": "markdown",
      "metadata": {
        "id": "OMmNoznWUY4L"
      },
      "source": [
        "### Which features were selected\n",
        "\n",
        "When using RFE, we may be interested to know which features were selected and which were removed.\n",
        "\n",
        "This can be achieved by reviewing the attributes of the fit RFE object (or fit RFECV object). The “support_” attribute reports true or false as to which features in order of column index were included and the “ranking_” attribute reports the relative ranking of features in the same order.\n",
        "\n",
        "The example below fits an RFE model on the whole dataset and selects five features, then reports each feature column index (0 to 9), whether it was selected or not (True or False), and the relative feature ranking."
      ]
    },
    {
      "cell_type": "code",
      "metadata": {
        "id": "oHa1RaQRUNuw"
      },
      "source": [
        "# define dataset\n",
        "X, y = make_classification(n_samples=1000, n_features=10, n_informative=5, n_redundant=5, random_state=1)"
      ],
      "execution_count": 25,
      "outputs": []
    },
    {
      "cell_type": "code",
      "metadata": {
        "id": "aEcmLcNuUqTx"
      },
      "source": [
        "# define RFE\n",
        "rfe = RFE(estimator=DecisionTreeClassifier(), n_features_to_select=5)"
      ],
      "execution_count": 26,
      "outputs": []
    },
    {
      "cell_type": "code",
      "metadata": {
        "colab": {
          "base_uri": "https://localhost:8080/"
        },
        "id": "TpeZ_safUrv7",
        "outputId": "13f627ce-bfcf-42bb-db5e-58d93791fa68"
      },
      "source": [
        "# fit RFE\n",
        "rfe.fit(X, y)"
      ],
      "execution_count": 27,
      "outputs": [
        {
          "output_type": "execute_result",
          "data": {
            "text/plain": [
              "RFE(estimator=DecisionTreeClassifier(ccp_alpha=0.0, class_weight=None,\n",
              "                                     criterion='gini', max_depth=None,\n",
              "                                     max_features=None, max_leaf_nodes=None,\n",
              "                                     min_impurity_decrease=0.0,\n",
              "                                     min_impurity_split=None,\n",
              "                                     min_samples_leaf=1, min_samples_split=2,\n",
              "                                     min_weight_fraction_leaf=0.0,\n",
              "                                     presort='deprecated', random_state=None,\n",
              "                                     splitter='best'),\n",
              "    n_features_to_select=5, step=1, verbose=0)"
            ]
          },
          "metadata": {},
          "execution_count": 27
        }
      ]
    },
    {
      "cell_type": "code",
      "metadata": {
        "colab": {
          "base_uri": "https://localhost:8080/"
        },
        "id": "Otf-suJZUtRD",
        "outputId": "bc4aa5bf-69f8-487f-c6b3-03a102228b45"
      },
      "source": [
        "# summarize all features\n",
        "for i in range(X.shape[1]):\n",
        "\tprint('Column: %d, Selected %s, Rank: %.3f' % (i, rfe.support_[i], rfe.ranking_[i]))"
      ],
      "execution_count": 28,
      "outputs": [
        {
          "output_type": "stream",
          "name": "stdout",
          "text": [
            "Column: 0, Selected False, Rank: 4.000\n",
            "Column: 1, Selected False, Rank: 5.000\n",
            "Column: 2, Selected True, Rank: 1.000\n",
            "Column: 3, Selected True, Rank: 1.000\n",
            "Column: 4, Selected True, Rank: 1.000\n",
            "Column: 5, Selected False, Rank: 6.000\n",
            "Column: 6, Selected True, Rank: 1.000\n",
            "Column: 7, Selected False, Rank: 2.000\n",
            "Column: 8, Selected True, Rank: 1.000\n",
            "Column: 9, Selected False, Rank: 3.000\n"
          ]
        }
      ]
    },
    {
      "cell_type": "markdown",
      "metadata": {
        "id": "3PkzFmmjU1NI"
      },
      "source": [
        "Running the example lists of the 10 input features and whether or not they were selected as well as their relative ranking of importance."
      ]
    },
    {
      "cell_type": "markdown",
      "metadata": {
        "id": "GY9QWCUXU5BN"
      },
      "source": [
        "### Explore base algorithm\n",
        "\n",
        "There are many algorithms that can be used in the core RFE, as long as they provide some indication of variable importance.\n",
        "\n",
        "Most decision tree algorithms are likely to report the same general trends in feature importance, but this is not guaranteed. It might be helpful to explore the use of different algorithms wrapped by RFE.\n",
        "\n",
        "The example below demonstrates how you might explore this configuration option."
      ]
    },
    {
      "cell_type": "code",
      "metadata": {
        "id": "9hi_RSbvUtkq"
      },
      "source": [
        "# get the dataset\n",
        "def get_dataset():\n",
        "\tX, y = make_classification(n_samples=1000, n_features=10, n_informative=5, n_redundant=5, random_state=1)\n",
        "\treturn X, y"
      ],
      "execution_count": 29,
      "outputs": []
    },
    {
      "cell_type": "code",
      "metadata": {
        "id": "Ds_xLVg3VPlm"
      },
      "source": [
        "# get a list of models to evaluate\n",
        "def get_models():\n",
        "\tmodels = dict()\n",
        "\t# lr\n",
        "\trfe = RFE(estimator=LogisticRegression(), n_features_to_select=5)\n",
        "\tmodel = DecisionTreeClassifier()\n",
        "\tmodels['lr'] = Pipeline(steps=[('s',rfe),('m',model)])\n",
        "\t# perceptron\n",
        "\trfe = RFE(estimator=Perceptron(), n_features_to_select=5)\n",
        "\tmodel = DecisionTreeClassifier()\n",
        "\tmodels['per'] = Pipeline(steps=[('s',rfe),('m',model)])\n",
        "\t# cart\n",
        "\trfe = RFE(estimator=DecisionTreeClassifier(), n_features_to_select=5)\n",
        "\tmodel = DecisionTreeClassifier()\n",
        "\tmodels['cart'] = Pipeline(steps=[('s',rfe),('m',model)])\n",
        "\t# rf\n",
        "\trfe = RFE(estimator=RandomForestClassifier(), n_features_to_select=5)\n",
        "\tmodel = DecisionTreeClassifier()\n",
        "\tmodels['rf'] = Pipeline(steps=[('s',rfe),('m',model)])\n",
        "\t# gbm\n",
        "\trfe = RFE(estimator=GradientBoostingClassifier(), n_features_to_select=5)\n",
        "\tmodel = DecisionTreeClassifier()\n",
        "\tmodels['gbm'] = Pipeline(steps=[('s',rfe),('m',model)])\n",
        "\treturn models"
      ],
      "execution_count": 30,
      "outputs": []
    },
    {
      "cell_type": "code",
      "metadata": {
        "id": "xtNl-KiCVVCg"
      },
      "source": [
        "# evaluate a given model using cross-validation\n",
        "def evaluate_model(model, X, y):\n",
        "\tcv = RepeatedStratifiedKFold(n_splits=10, n_repeats=3, random_state=1)\n",
        "\tscores = cross_val_score(model, X, y, scoring='accuracy', cv=cv, n_jobs=-1)\n",
        "\treturn scores"
      ],
      "execution_count": 31,
      "outputs": []
    },
    {
      "cell_type": "code",
      "metadata": {
        "id": "85jAZLHpVZmw"
      },
      "source": [
        "# define dataset\n",
        "X, y = get_dataset()"
      ],
      "execution_count": 32,
      "outputs": []
    },
    {
      "cell_type": "code",
      "metadata": {
        "id": "Pkc8Qt7_VbTx"
      },
      "source": [
        "# get the models to evaluate\n",
        "models = get_models()"
      ],
      "execution_count": 33,
      "outputs": []
    },
    {
      "cell_type": "code",
      "metadata": {
        "colab": {
          "base_uri": "https://localhost:8080/"
        },
        "id": "2r8NK30kVdII",
        "outputId": "74b1fd85-935f-4d8e-d453-d2d82517b79b"
      },
      "source": [
        "# evaluate the models and store results\n",
        "results, names = list(), list()\n",
        "for name, model in models.items():\n",
        "\tscores = evaluate_model(model, X, y)\n",
        "\tresults.append(scores)\n",
        "\tnames.append(name)\n",
        "\tprint('>%s %.3f (%.3f)' % (name, np.mean(scores), np.std(scores)))"
      ],
      "execution_count": 34,
      "outputs": [
        {
          "output_type": "stream",
          "name": "stdout",
          "text": [
            ">lr 0.895 (0.032)\n",
            ">per 0.848 (0.036)\n",
            ">cart 0.885 (0.028)\n",
            ">rf 0.856 (0.038)\n",
            ">gbm 0.886 (0.031)\n"
          ]
        }
      ]
    },
    {
      "cell_type": "code",
      "metadata": {
        "colab": {
          "base_uri": "https://localhost:8080/",
          "height": 428
        },
        "id": "s4eW4JzoVfYQ",
        "outputId": "e9d6b89f-1d4d-46ce-f845-ae55a785737d"
      },
      "source": [
        "# plot model performance for comparison\n",
        "plt.figure(figsize=(14,7))\n",
        "plt.boxplot(results, labels=names, showmeans=True)\n",
        "plt.show()"
      ],
      "execution_count": 35,
      "outputs": [
        {
          "output_type": "display_data",
          "data": {
            "image/png": "[encoded data removed]",
            "text/plain": [
              "<Figure size 1008x504 with 1 Axes>"
            ]
          },
          "metadata": {
            "needs_background": "light"
          }
        }
      ]
    },
    {
      "cell_type": "markdown",
      "metadata": {
        "id": "g10g04QbVvxL"
      },
      "source": [
        "Running the example first reports the mean accuracy for each wrapped algorithm.\n",
        "\n",
        "In this case, the results suggest that linear algorithms like logistic regression might select better features more reliably than the chosen decision tree and ensemble of decision tree algorithms.\n",
        "\n",
        "A box and whisker plot is created for the distribution of accuracy scores for each configured wrapped algorithm.\n",
        "\n",
        "We can see the general trend of good performance with logistic regression, CART and perhaps GBM. This highlights that even though the actual model used to fit the chosen features is the same in each case, the model used within RFE can make an important difference to which features are selected and in turn the performance on the prediction problem."
      ]
    },
    {
      "cell_type": "code",
      "metadata": {
        "id": "gzqPfsJBV_Vb"
      },
      "source": [
        ""
      ],
      "execution_count": 35,
      "outputs": []
    }
  ]
}
